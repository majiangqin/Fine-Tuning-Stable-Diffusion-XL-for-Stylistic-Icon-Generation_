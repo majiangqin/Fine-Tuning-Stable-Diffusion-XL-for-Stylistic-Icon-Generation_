{
 "cells": [
  {
   "cell_type": "code",
   "execution_count": 1,
   "metadata": {},
   "outputs": [
    {
     "data": {
      "text/plain": [
       "'c:\\\\Users\\\\water\\\\Documents\\\\GitHub\\\\home-depot-project\\\\eda'"
      ]
     },
     "execution_count": 1,
     "metadata": {},
     "output_type": "execute_result"
    }
   ],
   "source": [
    "import os\n",
    "\n",
    "os.getcwd()"
   ]
  },
  {
   "cell_type": "code",
   "execution_count": 4,
   "metadata": {},
   "outputs": [
    {
     "data": {
      "text/plain": [
       "<generator object _walk at 0x00FE7250>"
      ]
     },
     "execution_count": 4,
     "metadata": {},
     "output_type": "execute_result"
    }
   ],
   "source": [
    "os.walk(images_path)"
   ]
  },
  {
   "cell_type": "code",
   "execution_count": 15,
   "metadata": {},
   "outputs": [],
   "source": [
    "import os\n",
    "\n",
    "images_path = r'C:\\Users\\water\\Documents\\GitHub\\home-depot-project\\data2\\Rich_content_icons_grayscale_png_wb2'\n",
    "images_path2 = r'C:\\Users\\water\\Documents\\GitHub\\home-depot-project\\data2\\Rich_Content_icons'\n",
    "def find_files_with_keyword(keyword, path):\n",
    "    matching_files = []\n",
    "    for root, dirs, files in os.walk(path):\n",
    "        for file in files:\n",
    "            if keyword.lower() in file.lower():\n",
    "                matching_files.append(os.path.join(root, file))\n",
    "    return matching_files\n",
    "\n",
    "def count_file_types(files):\n",
    "    file_type_count = {}\n",
    "    for file in files:\n",
    "        file_extension = os.path.splitext(file)[1].lower()\n",
    "        if file_extension in file_type_count:\n",
    "            file_type_count[file_extension] += 1\n",
    "        else:\n",
    "            file_type_count[file_extension] = 1\n",
    "    return file_type_count"
   ]
  },
  {
   "cell_type": "code",
   "execution_count": 13,
   "metadata": {},
   "outputs": [
    {
     "name": "stdout",
     "output_type": "stream",
     "text": [
      ".png: 79\n"
     ]
    }
   ],
   "source": [
    "matching_files = find_files_with_keyword('screw', images_path)\n",
    "\n",
    "# Get the count of each file type\n",
    "file_type_count = count_file_types(matching_files)\n",
    "\n",
    "# Print the file type counts\n",
    "for file_type, count in file_type_count.items():\n",
    "    print(f'{file_type}: {count}')\n"
   ]
  },
  {
   "cell_type": "code",
   "execution_count": 14,
   "metadata": {},
   "outputs": [
    {
     "name": "stdout",
     "output_type": "stream",
     "text": [
      ".png: 66\n"
     ]
    }
   ],
   "source": [
    "matching_files = find_files_with_keyword('kitchen', images_path)\n",
    "\n",
    "# Get the count of each file type\n",
    "file_type_count = count_file_types(matching_files)\n",
    "\n",
    "# Print the file type counts\n",
    "for file_type, count in file_type_count.items():\n",
    "    print(f'{file_type}: {count}')\n"
   ]
  },
  {
   "cell_type": "code",
   "execution_count": 20,
   "metadata": {},
   "outputs": [
    {
     "name": "stdout",
     "output_type": "stream",
     "text": [
      ".ai: 6\n",
      ".svg: 80\n"
     ]
    }
   ],
   "source": [
    "matching_files = find_files_with_keyword('screw', images_path2)\n",
    "\n",
    "# Get the count of each file type\n",
    "file_type_count = count_file_types(matching_files)\n",
    "\n",
    "# Print the file type counts\n",
    "for file_type, count in file_type_count.items():\n",
    "    print(f'{file_type}: {count}')\n"
   ]
  },
  {
   "cell_type": "code",
   "execution_count": 21,
   "metadata": {},
   "outputs": [
    {
     "name": "stdout",
     "output_type": "stream",
     "text": [
      ".psd: 10\n",
      ".svg: 66\n"
     ]
    }
   ],
   "source": [
    "matching_files = find_files_with_keyword('kitchen', images_path2)\n",
    "\n",
    "# Get the count of each file type\n",
    "file_type_count = count_file_types(matching_files)\n",
    "\n",
    "# Print the file type counts\n",
    "for file_type, count in file_type_count.items():\n",
    "    print(f'{file_type}: {count}')\n"
   ]
  },
  {
   "cell_type": "code",
   "execution_count": 23,
   "metadata": {},
   "outputs": [
    {
     "name": "stdout",
     "output_type": "stream",
     "text": [
      ".png: 3\n"
     ]
    }
   ],
   "source": [
    "matching_files = find_files_with_keyword('cabinet', images_path)\n",
    "\n",
    "# Get the count of each file type\n",
    "file_type_count = count_file_types(matching_files)\n",
    "\n",
    "# Print the file type counts\n",
    "for file_type, count in file_type_count.items():\n",
    "    print(f'{file_type}: {count}')\n"
   ]
  },
  {
   "cell_type": "code",
   "execution_count": 22,
   "metadata": {},
   "outputs": [
    {
     "name": "stdout",
     "output_type": "stream",
     "text": [
      ".jpg: 6\n",
      ".svg: 3\n",
      ".ai: 4\n",
      ".gif: 4\n",
      ".psd: 10\n"
     ]
    }
   ],
   "source": [
    "matching_files = find_files_with_keyword('cabinet', images_path2)\n",
    "\n",
    "# Get the count of each file type\n",
    "file_type_count = count_file_types(matching_files)\n",
    "\n",
    "# Print the file type counts\n",
    "for file_type, count in file_type_count.items():\n",
    "    print(f'{file_type}: {count}')\n"
   ]
  }
 ],
 "metadata": {
  "kernelspec": {
   "display_name": "Python 3",
   "language": "python",
   "name": "python3"
  },
  "language_info": {
   "codemirror_mode": {
    "name": "ipython",
    "version": 3
   },
   "file_extension": ".py",
   "mimetype": "text/x-python",
   "name": "python",
   "nbconvert_exporter": "python",
   "pygments_lexer": "ipython3",
   "version": "3.11.4"
  },
  "orig_nbformat": 4
 },
 "nbformat": 4,
 "nbformat_minor": 2
}
