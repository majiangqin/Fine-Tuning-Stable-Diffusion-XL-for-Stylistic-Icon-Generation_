{
 "cells": [
  {
   "cell_type": "markdown",
   "metadata": {
    "id": "MFNkvjgn1lPI"
   },
   "source": [
    "## Fine-tuning Stable Diffusion XL with DreamBooth and LoRA\n",
    "Reference:\n",
    "\n",
    "https://huggingface.co/docs/diffusers/main/en/api/pipelines/stable_diffusion/stable_diffusion_xl\n",
    "\n",
    "https://huggingface.co/docs/diffusers/main/en/training/dreambooth\n",
    "\n",
    "https://huggingface.co/docs/diffusers/main/en/training/lora"
   ]
  },
  {
   "cell_type": "markdown",
   "metadata": {
    "id": "pdM59WIoS01O"
   },
   "source": [
    "## Setup"
   ]
  },
  {
   "cell_type": "code",
   "execution_count": 1,
   "metadata": {
    "colab": {
     "base_uri": "https://localhost:8080/"
    },
    "id": "XUxRrLfLMnBb",
    "outputId": "96bf6d2a-f672-4a2a-f18e-869160edec20"
   },
   "outputs": [
    {
     "name": "stdout",
     "output_type": "stream",
     "text": [
      "Sat Jun 29 16:40:42 2024       \n",
      "+---------------------------------------------------------------------------------------+\n",
      "| NVIDIA-SMI 535.183.01             Driver Version: 535.183.01   CUDA Version: 12.2     |\n",
      "|-----------------------------------------+----------------------+----------------------+\n",
      "| GPU  Name                 Persistence-M | Bus-Id        Disp.A | Volatile Uncorr. ECC |\n",
      "| Fan  Temp   Perf          Pwr:Usage/Cap |         Memory-Usage | GPU-Util  Compute M. |\n",
      "|                                         |                      |               MIG M. |\n",
      "|=========================================+======================+======================|\n",
      "|   0  NVIDIA RTX A4000               Off | 00000000:00:05.0 Off |                  Off |\n",
      "| 41%   37C    P8               8W / 140W |      1MiB / 16376MiB |      0%      Default |\n",
      "|                                         |                      |                  N/A |\n",
      "+-----------------------------------------+----------------------+----------------------+\n",
      "|   1  NVIDIA RTX A4000               Off | 00000000:00:07.0 Off |                  Off |\n",
      "| 41%   37C    P8               7W / 140W |      1MiB / 16376MiB |      0%      Default |\n",
      "|                                         |                      |                  N/A |\n",
      "+-----------------------------------------+----------------------+----------------------+\n",
      "|   2  NVIDIA RTX A4000               Off | 00000000:00:09.0 Off |                  Off |\n",
      "| 41%   42C    P8               8W / 140W |      1MiB / 16376MiB |      0%      Default |\n",
      "|                                         |                      |                  N/A |\n",
      "+-----------------------------------------+----------------------+----------------------+\n",
      "|   3  NVIDIA RTX A4000               Off | 00000000:00:0B.0 Off |                  Off |\n",
      "| 41%   35C    P8               6W / 140W |      1MiB / 16376MiB |      0%      Default |\n",
      "|                                         |                      |                  N/A |\n",
      "+-----------------------------------------+----------------------+----------------------+\n",
      "                                                                                         \n",
      "+---------------------------------------------------------------------------------------+\n",
      "| Processes:                                                                            |\n",
      "|  GPU   GI   CI        PID   Type   Process name                            GPU Memory |\n",
      "|        ID   ID                                                             Usage      |\n",
      "|=======================================================================================|\n",
      "|  No running processes found                                                           |\n",
      "+---------------------------------------------------------------------------------------+\n"
     ]
    }
   ],
   "source": [
    "# Check the GPU\n",
    "!nvidia-smi"
   ]
  },
  {
   "cell_type": "markdown",
   "metadata": {},
   "source": [
    "## Prepare for training"
   ]
  },
  {
   "cell_type": "markdown",
   "metadata": {},
   "source": [
    "Check training data and class images.\n",
    "\n",
    "Please put metadata.jsonl in the screws icon dataset file. We will use this prompt file for training."
   ]
  },
  {
   "cell_type": "code",
   "execution_count": 16,
   "metadata": {},
   "outputs": [
    {
     "name": "stdout",
     "output_type": "stream",
     "text": [
      "Number of images in the folder: 26\n"
     ]
    }
   ],
   "source": [
    "# check how many images in the class_images folder\n",
    "import os\n",
    "from PIL import Image\n",
    "\n",
    "def count_images_in_folder(folder_path):\n",
    "    image_extensions = ('.png', '.jpg', '.jpeg', '.gif', '.bmp', '.tiff')\n",
    "    image_count = 0\n",
    "\n",
    "    for filename in os.listdir(folder_path):\n",
    "        if filename.lower().endswith(image_extensions):\n",
    "            try:\n",
    "                img = Image.open(os.path.join(folder_path, filename))\n",
    "                img.verify()  # Verify that it is, in fact, an image\n",
    "                image_count += 1\n",
    "            except (IOError, SyntaxError) as e:\n",
    "                # Not an image or corrupted image\n",
    "                print(f\"File {filename} is not a valid image or is corrupted.\")\n",
    "    \n",
    "    return image_count\n",
    "\n",
    "# Example usage\n",
    "folder_path = 'home depot_screw_class/class_images'\n",
    "image_count = count_images_in_folder(folder_path)\n",
    "print(f\"Number of images in the folder: {image_count}\")\n"
   ]
  },
  {
   "cell_type": "code",
   "execution_count": 17,
   "metadata": {
    "colab": {
     "base_uri": "https://localhost:8080/"
    },
    "id": "55U57alsRIek",
    "outputId": "81e2457f-7be9-4869-aefc-669d7d862a23"
   },
   "outputs": [],
   "source": [
    "# Install dependencies.\n",
    "!pip install bitsandbytes transformers accelerate peft -q"
   ]
  },
  {
   "cell_type": "markdown",
   "metadata": {
    "id": "FJXRjGZa1vFZ"
   },
   "source": [
    "Make sure to install `diffusers` from `main`."
   ]
  },
  {
   "cell_type": "code",
   "execution_count": 5,
   "metadata": {
    "colab": {
     "base_uri": "https://localhost:8080/"
    },
    "id": "9atNWUXFZlVe",
    "outputId": "183b25f8-a42e-47cb-b329-133dd08b866f"
   },
   "outputs": [],
   "source": [
    "!pip install git+https://github.com/huggingface/diffusers.git -q"
   ]
  },
  {
   "cell_type": "code",
   "execution_count": 6,
   "metadata": {
    "id": "nMvQ1e97y9G6"
   },
   "outputs": [],
   "source": [
    "# upload the home depot dataset\n",
    "local_dir='home depot_screw_class/screws'"
   ]
  },
  {
   "cell_type": "code",
   "execution_count": 7,
   "metadata": {
    "colab": {
     "base_uri": "https://localhost:8080/",
     "height": 35
    },
    "id": "-lQ2DxCHy9G6",
    "outputId": "75902258-73d4-45e1-d3c1-20c00c3899ec"
   },
   "outputs": [
    {
     "data": {
      "text/plain": [
       "'home depot_screw_class/screws'"
      ]
     },
     "execution_count": 7,
     "metadata": {},
     "output_type": "execute_result"
    }
   ],
   "source": [
    "local_dir"
   ]
  },
  {
   "cell_type": "markdown",
   "metadata": {
    "id": "piJkbOe9OZbX"
   },
   "source": [
    "#### Preview the images:"
   ]
  },
  {
   "cell_type": "code",
   "execution_count": 8,
   "metadata": {
    "id": "W0R-hByAPkIg"
   },
   "outputs": [],
   "source": [
    "from PIL import Image\n",
    "\n",
    "def image_grid(imgs, rows, cols, resize=256):\n",
    "\n",
    "    if resize is not None:\n",
    "        imgs = [img.resize((resize, resize)) for img in imgs]\n",
    "    w, h = imgs[0].size\n",
    "    grid = Image.new(\"RGB\", size=(cols * w, rows * h))\n",
    "    grid_w, grid_h = grid.size\n",
    "\n",
    "    for i, img in enumerate(imgs):\n",
    "        grid.paste(img, box=(i % cols * w, i // cols * h))\n",
    "    return grid"
   ]
  },
  {
   "cell_type": "code",
   "execution_count": 9,
   "metadata": {
    "id": "kwhwepFrPwqo",
    "outputId": "1245f68d-fbd3-4e77-a277-07ca4e834a91"
   },
   "outputs": [
    {
     "data": {
      "image/jpeg": "[encoded data removed]",
      "image/png": "[encoded data removed]",
      "text/plain": [
       "<PIL.Image.Image image mode=RGB size=1280x256>"
      ]
     },
     "execution_count": 9,
     "metadata": {},
     "output_type": "execute_result"
    }
   ],
   "source": [
    "import glob\n",
    "\n",
    "# change path to display images from your local dir\n",
    "img_paths = \"screw/*.png\"\n",
    "imgs = [Image.open(path) for path in glob.glob(img_paths)]\n",
    "\n",
    "num_imgs_to_preview = 5\n",
    "image_grid(imgs[:num_imgs_to_preview], 1, num_imgs_to_preview)"
   ]
  },
  {
   "cell_type": "code",
   "execution_count": 12,
   "metadata": {
    "id": "7sfz8GWpy9G7"
   },
   "outputs": [],
   "source": [
    "import glob\n",
    "from PIL import Image\n",
    "\n",
    "# Define the directory containing images\n",
    "local_dir = \"home depot_screw_class/screws/\"\n",
    "\n",
    "# Create a list of (path, PIL.Image) pairs\n",
    "imgs_and_paths = [(path, Image.open(path)) for path in glob.glob(f\"{local_dir}*.png\")]\n"
   ]
  },
  {
   "cell_type": "code",
   "execution_count": 13,
   "metadata": {
    "id": "GGq3nHXXy9G7",
    "outputId": "6c7c2aff-3b10-4b54-ce9a-4ef53ab9b287"
   },
   "outputs": [
    {
     "data": {
      "text/plain": [
       "[('home depot_screw_class/screws/hardware-fasteners-screws-562860-drive-style-5295328677-external-square-4296094427-v1.png',\n",
       "  <PIL.PngImagePlugin.PngImageFile image mode=RGB size=3000x3000>),\n",
       " ('home depot_screw_class/screws/hardware-fasteners-screws-562860-head-style-587571-washer-head-4295189252-v1.png',\n",
       "  <PIL.PngImagePlugin.PngImageFile image mode=RGB size=3000x3000>),\n",
       " ('home depot_screw_class/screws/hardware-fasteners-screws-562860-head-style-587571-truss-head-4295189302-v1.png',\n",
       "  <PIL.PngImagePlugin.PngImageFile image mode=RGB size=3000x3000>),\n",
       " ('home depot_screw_class/screws/hardware-fasteners-screws-562860-drive-style-5295328677-external-hex-4296094345-v1.png',\n",
       "  <PIL.PngImagePlugin.PngImageFile image mode=RGB size=3000x3000>),\n",
       " ('home depot_screw_class/screws/hardware-fasteners-screws-562860-drive-style-5295328677-internal-square-4296094329-v1.png',\n",
       "  <PIL.PngImagePlugin.PngImageFile image mode=RGB size=3000x3000>),\n",
       " ('home depot_screw_class/screws/hardware-fasteners-screws-562860-head-style-587571-pancake-head-4295213029-v1.png',\n",
       "  <PIL.PngImagePlugin.PngImageFile image mode=RGB size=3000x3000>),\n",
       " ('home depot_screw_class/screws/hardware-fasteners-screws-562860-head-style-587571-truss-4295189213-v1.png',\n",
       "  <PIL.PngImagePlugin.PngImageFile image mode=RGB size=3000x3000>),\n",
       " ('home depot_screw_class/screws/hardware-fasteners-screws-562860-drive-style-5295328677-cross-4296094710-v1.png',\n",
       "  <PIL.PngImagePlugin.PngImageFile image mode=RGB size=3000x3000>),\n",
       " ('home depot_screw_class/screws/hardware-fasteners-screws-562860-drive-style-5295328677-spanner-4296094604-v1.png',\n",
       "  <PIL.PngImagePlugin.PngImageFile image mode=RGB size=3000x3000>),\n",
       " ('home depot_screw_class/screws/hardware-fasteners-screws-562860-head-style-587571-trim-4295189215-v1.png',\n",
       "  <PIL.PngImagePlugin.PngImageFile image mode=RGB size=3000x3000>),\n",
       " ('home depot_screw_class/screws/hardware-fasteners-screws-562860-head-style-587571-hex-4295189384-v1.png',\n",
       "  <PIL.PngImagePlugin.PngImageFile image mode=RGB size=3000x3000>),\n",
       " ('home depot_screw_class/screws/hardware-fasteners-screws-562860-head-style-587571-bugle-head-4295189239-v1.png',\n",
       "  <PIL.PngImagePlugin.PngImageFile image mode=RGB size=3000x3000>),\n",
       " ('home depot_screw_class/screws/hardware-fasteners-screws-562860-drive-style-5295328677-phillips-4296094358-v1.png',\n",
       "  <PIL.PngImagePlugin.PngImageFile image mode=RGB size=3000x3000>),\n",
       " ('home depot_screw_class/screws/hardware-fasteners-screws-562860-head-style-587571-binding-4295189210-v1.png',\n",
       "  <PIL.PngImagePlugin.PngImageFile image mode=RGB size=3000x3000>),\n",
       " ('home depot_screw_class/screws/hardware-fasteners-screws-562860-head-style-587571-knurled-4295189411-v1.png',\n",
       "  <PIL.PngImagePlugin.PngImageFile image mode=RGB size=3000x3000>),\n",
       " ('home depot_screw_class/screws/hardware-fasteners-screws-562860-head-style-587571-round-head-4295189169-v1.png',\n",
       "  <PIL.PngImagePlugin.PngImageFile image mode=RGB size=3000x3000>),\n",
       " ('home depot_screw_class/screws/hardware-fasteners-screws-562860-head-style-587571-flat-head-4295189272-v1.png',\n",
       "  <PIL.PngImagePlugin.PngImageFile image mode=RGB size=3000x3000>),\n",
       " ('home depot_screw_class/screws/hardware-fasteners-screws-562860-drive-style-510344-phillips-4294966012-v1.png',\n",
       "  <PIL.PngImagePlugin.PngImageFile image mode=RGB size=3000x3000>),\n",
       " ('home depot_screw_class/screws/hardware-fasteners-screws-562860-drive-style-5295328677-allen-4296094304-v1.png',\n",
       "  <PIL.PngImagePlugin.PngImageFile image mode=RGB size=3000x3000>),\n",
       " ('home depot_screw_class/screws/hardware-fasteners-screws-562860-head-style-587571-wing-4295189166-v1.png',\n",
       "  <PIL.PngImagePlugin.PngImageFile image mode=RGB size=3000x3000>),\n",
       " ('home depot_screw_class/screws/hardware-fasteners-screws-562860-head-style-587571-oval-4295189149-v1.png',\n",
       "  <PIL.PngImagePlugin.PngImageFile image mode=RGB size=3000x3000>),\n",
       " ('home depot_screw_class/screws/hardware-fasteners-screws-562860-drive-style-5295328677-6-lobe-4296098857-v1.png',\n",
       "  <PIL.PngImagePlugin.PngImageFile image mode=RGB size=3000x3000>),\n",
       " ('home depot_screw_class/screws/hardware-fasteners-screws-562860-head-style-587571-cylinder-head-4295325859-v1.png',\n",
       "  <PIL.PngImagePlugin.PngImageFile image mode=RGB size=3000x3000>),\n",
       " ('home depot_screw_class/screws/hardware-fasteners-screws-562860-drive-style-5295328677-security-torx-4296094680-v1.png',\n",
       "  <PIL.PngImagePlugin.PngImageFile image mode=RGB size=3000x3000>),\n",
       " ('home depot_screw_class/screws/hardware-fasteners-screws-562860-drive-style-5295328677-internal-hex-4296094585-v1.png',\n",
       "  <PIL.PngImagePlugin.PngImageFile image mode=RGB size=3000x3000>),\n",
       " ('home depot_screw_class/screws/hardware-fasteners-screws-562860-head-style-587571-spade-4295189406-v1.png',\n",
       "  <PIL.PngImagePlugin.PngImageFile image mode=RGB size=3000x3000>),\n",
       " ('home depot_screw_class/screws/hardware-fasteners-screws-562860-head-style-587571-oval-head-4295189257-v1.png',\n",
       "  <PIL.PngImagePlugin.PngImageFile image mode=RGB size=3000x3000>),\n",
       " ('home depot_screw_class/screws/hardware-fasteners-screws-562860-head-style-587571-countersunk-head-4296088423-v1.png',\n",
       "  <PIL.PngImagePlugin.PngImageFile image mode=RGB size=3000x3000>),\n",
       " ('home depot_screw_class/screws/hardware-fasteners-screws-562860-drive-style-5295328677-lox-4296094477-v1.png',\n",
       "  <PIL.PngImagePlugin.PngImageFile image mode=RGB size=3000x3000>),\n",
       " ('home depot_screw_class/screws/hardware-fasteners-screws-562860-head-style-587571-button-head-4295189376-v1.png',\n",
       "  <PIL.PngImagePlugin.PngImageFile image mode=RGB size=3000x3000>),\n",
       " ('home depot_screw_class/screws/hardware-fasteners-screws-562860-head-style-587571-pan-head-4295189323-v1.png',\n",
       "  <PIL.PngImagePlugin.PngImageFile image mode=RGB size=3000x3000>),\n",
       " ('home depot_screw_class/screws/hardware-fasteners-screws-562860-head-style-587571-thumb-4295189265-v1.png',\n",
       "  <PIL.PngImagePlugin.PngImageFile image mode=RGB size=3000x3000>),\n",
       " ('home depot_screw_class/screws/hardware-fasteners-screws-562860-head-style-571657-flat-4294425208-v1.png',\n",
       "  <PIL.PngImagePlugin.PngImageFile image mode=RGB size=3000x3000>),\n",
       " ('home depot_screw_class/screws/hardware-fasteners-screws-562860-head-style-587571-wafer-head-4295189324-v1.png',\n",
       "  <PIL.PngImagePlugin.PngImageFile image mode=RGB size=3000x3000>),\n",
       " ('home depot_screw_class/screws/hardware-fasteners-screws-562860-drive-style-5295328677-slotted-4296094277-v1.png',\n",
       "  <PIL.PngImagePlugin.PngImageFile image mode=RGB size=3000x3000>),\n",
       " ('home depot_screw_class/screws/hardware-fasteners-screws-562860-drive-style-5295328677-hex-4296094521-v1.png',\n",
       "  <PIL.PngImagePlugin.PngImageFile image mode=RGB size=3000x3000>),\n",
       " ('home depot_screw_class/screws/hardware-fasteners-screws-562860-drive-style-5295328677-square-4296094651-v1.png',\n",
       "  <PIL.PngImagePlugin.PngImageFile image mode=RGB size=3000x3000>),\n",
       " ('home depot_screw_class/screws/hardware-fasteners-screws-562860-head-style-587571-fillister-head-4295189409-v1.png',\n",
       "  <PIL.PngImagePlugin.PngImageFile image mode=RGB size=3000x3000>),\n",
       " ('home depot_screw_class/screws/hardware-fasteners-screws-562860-head-style-587571-scavenger-head-4295373652-v1.png',\n",
       "  <PIL.PngImagePlugin.PngImageFile image mode=RGB size=3000x3000>),\n",
       " ('home depot_screw_class/screws/hardware-fasteners-screws-562860-drive-style-5295328677-star-4296094439-v1.png',\n",
       "  <PIL.PngImagePlugin.PngImageFile image mode=RGB size=3000x3000>),\n",
       " ('home depot_screw_class/screws/hardware-fasteners-screws-562860-head-style-587571-square-head-4295189291-v1.png',\n",
       "  <PIL.PngImagePlugin.PngImageFile image mode=RGB size=3000x3000>),\n",
       " ('home depot_screw_class/screws/hardware-fasteners-screws-562860-head-style-587571-socket-head-4295324600-v1.png',\n",
       "  <PIL.PngImagePlugin.PngImageFile image mode=RGB size=3000x3000>)]"
      ]
     },
     "execution_count": 13,
     "metadata": {},
     "output_type": "execute_result"
    }
   ],
   "source": [
    "imgs_and_paths"
   ]
  },
  {
   "cell_type": "markdown",
   "metadata": {},
   "source": [
    "#### Verify if each image listed in the metadata.jsonl file exists in the directory. Check if there are any images in the directory that are not listed in the metadata.jsonl file.\n",
    "\n"
   ]
  },
  {
   "cell_type": "code",
   "execution_count": 19,
   "metadata": {},
   "outputs": [
    {
     "name": "stdout",
     "output_type": "stream",
     "text": [
      "Check whether each image in the metadata file exists in the directory:\n",
      "File: hardware-fasteners-screws-562860-head-style-587571-thumb-4295189265-v1.png, Exists: True\n",
      "File: hardware-fasteners-screws-562860-head-style-587571-countersunk-head-4296088423-v1.png, Exists: True\n",
      "File: hardware-fasteners-screws-562860-drive-style-5295328677-external-hex-4296094345-v1.png, Exists: True\n",
      "File: hardware-fasteners-screws-562860-head-style-587571-wafer-head-4295189324-v1.png, Exists: True\n",
      "File: hardware-fasteners-screws-562860-head-style-587571-button-head-4295189376-v1.png, Exists: True\n",
      "File: hardware-fasteners-screws-562860-head-style-587571-washer-head-4295189252-v1.png, Exists: True\n",
      "File: hardware-fasteners-screws-562860-head-style-587571-fillister-head-4295189409-v1.png, Exists: True\n",
      "File: hardware-fasteners-screws-562860-head-style-587571-socket-head-4295324600-v1.png, Exists: True\n",
      "File: hardware-fasteners-screws-562860-head-style-587571-round-head-4295189169-v1.png, Exists: True\n",
      "File: hardware-fasteners-screws-562860-head-style-587571-square-head-4295189291-v1.png, Exists: True\n",
      "File: hardware-fasteners-screws-562860-head-style-587571-cylinder-head-4295325859-v1.png, Exists: True\n",
      "File: hardware-fasteners-screws-562860-drive-style-5295328677-external-square-4296094427-v1.png, Exists: True\n",
      "File: hardware-fasteners-screws-562860-head-style-587571-truss-4295189213-v1.png, Exists: True\n",
      "File: hardware-fasteners-screws-562860-head-style-587571-pan-head-4295189323-v1.png, Exists: True\n",
      "File: hardware-fasteners-screws-562860-head-style-587571-hex-4295189384-v1.png, Exists: True\n",
      "File: hardware-fasteners-screws-562860-head-style-587571-pancake-head-4295213029-v1.png, Exists: True\n",
      "File: hardware-fasteners-screws-562860-drive-style-5295328677-slotted-4296094277-v1.png, Exists: True\n",
      "File: hardware-fasteners-screws-562860-head-style-587571-bugle-head-4295189239-v1.png, Exists: True\n",
      "File: hardware-fasteners-screws-562860-head-style-587571-oval-4295189149-v1.png, Exists: True\n",
      "File: hardware-fasteners-screws-562860-drive-style-5295328677-lox-4296094477-v1.png, Exists: True\n",
      "File: hardware-fasteners-screws-562860-drive-style-5295328677-cross-4296094710-v1.png, Exists: True\n",
      "File: hardware-fasteners-screws-562860-head-style-587571-oval-head-4295189257-v1.png, Exists: True\n",
      "File: hardware-fasteners-screws-562860-head-style-587571-flat-head-4295189272-v1.png, Exists: True\n",
      "File: hardware-fasteners-screws-562860-drive-style-510344-phillips-4294966012-v1.png, Exists: True\n",
      "File: hardware-fasteners-screws-562860-head-style-587571-scavenger-head-4295373652-v1.png, Exists: True\n",
      "File: hardware-fasteners-screws-562860-drive-style-5295328677-spanner-4296094604-v1.png, Exists: True\n",
      "File: hardware-fasteners-screws-562860-head-style-587571-spade-4295189406-v1.png, Exists: True\n",
      "File: hardware-fasteners-screws-562860-drive-style-5295328677-internal-hex-4296094585-v1.png, Exists: True\n",
      "File: hardware-fasteners-screws-562860-drive-style-5295328677-allen-4296094304-v1.png, Exists: True\n",
      "File: hardware-fasteners-screws-562860-head-style-587571-truss-head-4295189302-v1.png, Exists: True\n",
      "File: hardware-fasteners-screws-562860-drive-style-5295328677-star-4296094439-v1.png, Exists: True\n",
      "File: hardware-fasteners-screws-562860-drive-style-5295328677-6-lobe-4296098857-v1.png, Exists: True\n",
      "File: hardware-fasteners-screws-562860-drive-style-5295328677-internal-square-4296094329-v1.png, Exists: True\n",
      "File: hardware-fasteners-screws-562860-head-style-571657-flat-4294425208-v1.png, Exists: True\n",
      "File: hardware-fasteners-screws-562860-head-style-587571-trim-4295189215-v1.png, Exists: True\n",
      "File: hardware-fasteners-screws-562860-drive-style-5295328677-security-torx-4296094680-v1.png, Exists: True\n",
      "File: hardware-fasteners-screws-562860-head-style-587571-knurled-4295189411-v1.png, Exists: True\n",
      "File: hardware-fasteners-screws-562860-drive-style-5295328677-phillips-4296094358-v1.png, Exists: True\n",
      "File: hardware-fasteners-screws-562860-drive-style-5295328677-hex-4296094521-v1.png, Exists: True\n",
      "File: hardware-fasteners-screws-562860-drive-style-5295328677-square-4296094651-v1.png, Exists: True\n",
      "File: hardware-fasteners-screws-562860-head-style-587571-binding-4295189210-v1.png, Exists: True\n",
      "File: hardware-fasteners-screws-562860-head-style-587571-wing-4295189166-v1.png, Exists: True\n",
      "\n",
      "Check whether each image in the directory is listed in the metadata file:\n",
      "File: hardware-fasteners-screws-562860-drive-style-5295328677-external-square-4296094427-v1.png, Listed in Metadata: True\n",
      "File: hardware-fasteners-screws-562860-head-style-587571-washer-head-4295189252-v1.png, Listed in Metadata: True\n",
      "File: hardware-fasteners-screws-562860-head-style-587571-truss-head-4295189302-v1.png, Listed in Metadata: True\n",
      "File: hardware-fasteners-screws-562860-drive-style-5295328677-external-hex-4296094345-v1.png, Listed in Metadata: True\n",
      "File: hardware-fasteners-screws-562860-drive-style-5295328677-internal-square-4296094329-v1.png, Listed in Metadata: True\n",
      "File: hardware-fasteners-screws-562860-head-style-587571-pancake-head-4295213029-v1.png, Listed in Metadata: True\n",
      "File: hardware-fasteners-screws-562860-head-style-587571-truss-4295189213-v1.png, Listed in Metadata: True\n",
      "File: hardware-fasteners-screws-562860-drive-style-5295328677-cross-4296094710-v1.png, Listed in Metadata: True\n",
      "File: hardware-fasteners-screws-562860-drive-style-5295328677-spanner-4296094604-v1.png, Listed in Metadata: True\n",
      "File: hardware-fasteners-screws-562860-head-style-587571-trim-4295189215-v1.png, Listed in Metadata: True\n",
      "File: hardware-fasteners-screws-562860-head-style-587571-hex-4295189384-v1.png, Listed in Metadata: True\n",
      "File: hardware-fasteners-screws-562860-head-style-587571-bugle-head-4295189239-v1.png, Listed in Metadata: True\n",
      "File: hardware-fasteners-screws-562860-drive-style-5295328677-phillips-4296094358-v1.png, Listed in Metadata: True\n",
      "File: hardware-fasteners-screws-562860-head-style-587571-binding-4295189210-v1.png, Listed in Metadata: True\n",
      "File: hardware-fasteners-screws-562860-head-style-587571-knurled-4295189411-v1.png, Listed in Metadata: True\n",
      "File: hardware-fasteners-screws-562860-head-style-587571-round-head-4295189169-v1.png, Listed in Metadata: True\n",
      "File: hardware-fasteners-screws-562860-head-style-587571-flat-head-4295189272-v1.png, Listed in Metadata: True\n",
      "File: hardware-fasteners-screws-562860-drive-style-510344-phillips-4294966012-v1.png, Listed in Metadata: True\n",
      "File: hardware-fasteners-screws-562860-drive-style-5295328677-allen-4296094304-v1.png, Listed in Metadata: True\n",
      "File: hardware-fasteners-screws-562860-head-style-587571-wing-4295189166-v1.png, Listed in Metadata: True\n",
      "File: hardware-fasteners-screws-562860-head-style-587571-oval-4295189149-v1.png, Listed in Metadata: True\n",
      "File: metadata.jsonl, Listed in Metadata: False\n",
      "File: hardware-fasteners-screws-562860-drive-style-5295328677-6-lobe-4296098857-v1.png, Listed in Metadata: True\n",
      "File: hardware-fasteners-screws-562860-head-style-587571-cylinder-head-4295325859-v1.png, Listed in Metadata: True\n",
      "File: hardware-fasteners-screws-562860-drive-style-5295328677-security-torx-4296094680-v1.png, Listed in Metadata: True\n",
      "File: hardware-fasteners-screws-562860-drive-style-5295328677-internal-hex-4296094585-v1.png, Listed in Metadata: True\n",
      "File: hardware-fasteners-screws-562860-head-style-587571-spade-4295189406-v1.png, Listed in Metadata: True\n",
      "File: hardware-fasteners-screws-562860-head-style-587571-oval-head-4295189257-v1.png, Listed in Metadata: True\n",
      "File: hardware-fasteners-screws-562860-head-style-587571-countersunk-head-4296088423-v1.png, Listed in Metadata: True\n",
      "File: hardware-fasteners-screws-562860-drive-style-5295328677-lox-4296094477-v1.png, Listed in Metadata: True\n",
      "File: hardware-fasteners-screws-562860-head-style-587571-button-head-4295189376-v1.png, Listed in Metadata: True\n",
      "File: hardware-fasteners-screws-562860-head-style-587571-pan-head-4295189323-v1.png, Listed in Metadata: True\n",
      "File: hardware-fasteners-screws-562860-head-style-587571-thumb-4295189265-v1.png, Listed in Metadata: True\n",
      "File: hardware-fasteners-screws-562860-head-style-571657-flat-4294425208-v1.png, Listed in Metadata: True\n",
      "File: hardware-fasteners-screws-562860-head-style-587571-wafer-head-4295189324-v1.png, Listed in Metadata: True\n",
      "File: hardware-fasteners-screws-562860-drive-style-5295328677-slotted-4296094277-v1.png, Listed in Metadata: True\n",
      "File: hardware-fasteners-screws-562860-drive-style-5295328677-hex-4296094521-v1.png, Listed in Metadata: True\n",
      "File: hardware-fasteners-screws-562860-drive-style-5295328677-square-4296094651-v1.png, Listed in Metadata: True\n",
      "File: hardware-fasteners-screws-562860-head-style-587571-fillister-head-4295189409-v1.png, Listed in Metadata: True\n",
      "File: hardware-fasteners-screws-562860-head-style-587571-scavenger-head-4295373652-v1.png, Listed in Metadata: True\n",
      "File: hardware-fasteners-screws-562860-drive-style-5295328677-star-4296094439-v1.png, Listed in Metadata: True\n",
      "File: hardware-fasteners-screws-562860-head-style-587571-square-head-4295189291-v1.png, Listed in Metadata: True\n",
      "File: hardware-fasteners-screws-562860-head-style-587571-socket-head-4295324600-v1.png, Listed in Metadata: True\n"
     ]
    }
   ],
   "source": [
    "import os\n",
    "import json\n",
    "\n",
    "#define the path to the directory containing the images and the metadata file\n",
    "image_directory = 'home depot_screw_class/screws/'\n",
    "metadata_file_path = 'home depot_screw_class/screws//metadata.jsonl'\n",
    "\n",
    "# load the metadata from the jsonl file\n",
    "metadata = []\n",
    "with open(metadata_file_path, 'r') as file:\n",
    "    for line in file:\n",
    "        try:\n",
    "            metadata.append(json.loads(line))\n",
    "        except json.JSONDecodeError as e:\n",
    "            print(f\"Error decoding JSON on line: {line.strip()} - {e}\")\n",
    "\n",
    "# check whether each image in the metadata file exists in the directory\n",
    "metadata_file_names = [data['file_name'] for data in metadata]\n",
    "results_metadata_check = []\n",
    "for file_name in metadata_file_names:\n",
    "    file_path = os.path.join(image_directory, file_name)\n",
    "    exists = os.path.exists(file_path)\n",
    "    results_metadata_check.append({'file_name': file_name, 'exists': exists})\n",
    "\n",
    "# check if there are any images in the directory that are not listed in the metadata file\n",
    "directory_file_names = [f for f in os.listdir(image_directory) if os.path.isfile(os.path.join(image_directory, f))]\n",
    "results_directory_check = []\n",
    "for file_name in directory_file_names:\n",
    "    listed_in_metadata = file_name in metadata_file_names\n",
    "    results_directory_check.append({'file_name': file_name, 'listed_in_metadata': listed_in_metadata})\n",
    "\n",
    "print(\"Check whether each image in the metadata file exists in the directory:\")\n",
    "for result in results_metadata_check:\n",
    "    print(f\"File: {result['file_name']}, Exists: {result['exists']}\")\n",
    "\n",
    "print(\"\\nCheck whether each image in the directory is listed in the metadata file:\")\n",
    "for result in results_directory_check:\n",
    "    print(f\"File: {result['file_name']}, Listed in Metadata: {result['listed_in_metadata']}\")\n"
   ]
  },
  {
   "cell_type": "markdown",
   "metadata": {
    "id": "U7OzF0i716Kf"
   },
   "source": [
    "#### Initialize `accelerate`:"
   ]
  },
  {
   "cell_type": "code",
   "execution_count": 20,
   "metadata": {
    "colab": {
     "base_uri": "https://localhost:8080/"
    },
    "id": "WW7eFPl4eYXy",
    "outputId": "e048e487-91e7-441c-ba0d-9aee7a2c82e7"
   },
   "outputs": [
    {
     "name": "stdout",
     "output_type": "stream",
     "text": [
      "Configuration already exists at /home/paperspace/.cache/huggingface/accelerate/default_config.yaml, will not override. Run `accelerate config` manually or pass a different `save_location`.\n"
     ]
    }
   ],
   "source": [
    "import locale\n",
    "locale.getpreferredencoding = lambda: \"UTF-8\"\n",
    "\n",
    "!accelerate config default"
   ]
  },
  {
   "cell_type": "markdown",
   "metadata": {
    "id": "R2-p7R70THc5"
   },
   "source": [
    "## Train"
   ]
  },
  {
   "cell_type": "markdown",
   "metadata": {
    "id": "az-IQG-Ax3mJ"
   },
   "source": [
    "#### Set Hyperparameters \n",
    "To ensure we can DreamBooth with LoRA on a heavy pipeline like Stable Diffusion XL, we're using:\n",
    "\n",
    "* Gradient checkpointing (`--gradient_accumulation_steps`)\n",
    "* 8-bit Adam (`--use_8bit_adam`)\n",
    "* Mixed-precision training (`--mixed-precision=\"fp16\"`)"
   ]
  },
  {
   "cell_type": "markdown",
   "metadata": {
    "id": "uZbz4IXe0bAn"
   },
   "source": [
    "### Launch training"
   ]
  },
  {
   "cell_type": "markdown",
   "metadata": {
    "id": "SIMwkmL7N82R"
   },
   "source": [
    "To allow for custom captions we need to install the `datasets` library, you can skip that if you want to train solely\n",
    " with `--instance_prompt`.\n",
    "In that case, specify `--instance_data_dir` instead of `--dataset_name`"
   ]
  },
  {
   "cell_type": "code",
   "execution_count": 21,
   "metadata": {
    "colab": {
     "base_uri": "https://localhost:8080/"
    },
    "id": "tTZuM7yNNZsT",
    "outputId": "e95a4f34-9a20-40cc-8b7a-ab6cbf2cd48c"
   },
   "outputs": [],
   "source": [
    "!pip install datasets -q"
   ]
  },
  {
   "cell_type": "markdown",
   "metadata": {
    "id": "fbri7qQ0mdyg"
   },
   "source": [
    " - Use `--output_dir` to specify your LoRA model repository name!\n",
    " - Use `--caption_column` to specify name of the cpation column in your dataset. In this example we used \"prompt\" to\n",
    " save our captions in the\n",
    " metadata file, change this according to your needs."
   ]
  },
  {
   "cell_type": "markdown",
   "metadata": {
    "id": "h__C6HQSy9HH"
   },
   "source": [
    "### Approach 1: Without Using Class Images:\n",
    "\n",
    "Advantage: This approach simplifies the dataset preparation and training process since it only requires training images. It can be more straightforward if you want to focus solely on generating images of various screw types without the need for general class images.\n",
    "\n",
    "Disadvantage: The model might overfit to the specific screw types in your training dataset, potentially losing some generalization capability."
   ]
  },
  {
   "cell_type": "code",
   "execution_count": 7,
   "metadata": {
    "id": "GOiZSXHfx3mJ",
    "outputId": "f8b91f49-6563-4a23-d078-8ce4d72a4d36"
   },
   "outputs": [
    {
     "name": "stdout",
     "output_type": "stream",
     "text": [
      "/home/paperspace/.local/lib/python3.10/site-packages/diffusers/models/transformers/transformer_2d.py:34: FutureWarning: `Transformer2DModelOutput` is deprecated and will be removed in version 1.0.0. Importing `Transformer2DModelOutput` from `diffusers.models.transformer_2d` is deprecated and this will be removed in a future version. Please use `from diffusers.models.modeling_outputs import Transformer2DModelOutput`, instead.\n",
      "  deprecate(\"Transformer2DModelOutput\", \"1.0.0\", deprecation_message)\n",
      "/home/paperspace/.local/lib/python3.10/site-packages/diffusers/models/transformers/transformer_2d.py:34: FutureWarning: `Transformer2DModelOutput` is deprecated and will be removed in version 1.0.0. Importing `Transformer2DModelOutput` from `diffusers.models.transformer_2d` is deprecated and this will be removed in a future version. Please use `from diffusers.models.modeling_outputs import Transformer2DModelOutput`, instead.\n",
      "  deprecate(\"Transformer2DModelOutput\", \"1.0.0\", deprecation_message)\n",
      "/home/paperspace/.local/lib/python3.10/site-packages/diffusers/models/transformers/transformer_2d.py:34: FutureWarning: `Transformer2DModelOutput` is deprecated and will be removed in version 1.0.0. Importing `Transformer2DModelOutput` from `diffusers.models.transformer_2d` is deprecated and this will be removed in a future version. Please use `from diffusers.models.modeling_outputs import Transformer2DModelOutput`, instead.\n",
      "  deprecate(\"Transformer2DModelOutput\", \"1.0.0\", deprecation_message)\n",
      "/home/paperspace/.local/lib/python3.10/site-packages/diffusers/models/transformers/transformer_2d.py:34: FutureWarning: `Transformer2DModelOutput` is deprecated and will be removed in version 1.0.0. Importing `Transformer2DModelOutput` from `diffusers.models.transformer_2d` is deprecated and this will be removed in a future version. Please use `from diffusers.models.modeling_outputs import Transformer2DModelOutput`, instead.\n",
      "  deprecate(\"Transformer2DModelOutput\", \"1.0.0\", deprecation_message)\n",
      "/home/paperspace/.local/lib/python3.10/site-packages/accelerate/accelerator.py:399: UserWarning: `log_with=tensorboard` was passed but no supported trackers are currently installed.\n",
      "  warnings.warn(f\"`log_with={log_with}` was passed but no supported trackers are currently installed.\")\n",
      "06/27/2024 06:28:42 - INFO - __main__ - Distributed environment: MULTI_GPU  Backend: nccl\n",
      "Num processes: 4\n",
      "Process index: 0\n",
      "Local process index: 0\n",
      "Device: cuda:0\n",
      "\n",
      "Mixed precision type: fp16\n",
      "\n",
      "/home/paperspace/.local/lib/python3.10/site-packages/accelerate/accelerator.py:399: UserWarning: `log_with=tensorboard` was passed but no supported trackers are currently installed.\n",
      "  warnings.warn(f\"`log_with={log_with}` was passed but no supported trackers are currently installed.\")\n",
      "06/27/2024 06:28:43 - INFO - __main__ - Distributed environment: MULTI_GPU  Backend: nccl\n",
      "Num processes: 4\n",
      "Process index: 3\n",
      "Local process index: 3\n",
      "Device: cuda:3\n",
      "\n",
      "Mixed precision type: fp16\n",
      "\n",
      "/home/paperspace/.local/lib/python3.10/site-packages/accelerate/accelerator.py:399: UserWarning: `log_with=tensorboard` was passed but no supported trackers are currently installed.\n",
      "  warnings.warn(f\"`log_with={log_with}` was passed but no supported trackers are currently installed.\")\n",
      "06/27/2024 06:28:43 - INFO - __main__ - Distributed environment: MULTI_GPU  Backend: nccl\n",
      "Num processes: 4\n",
      "Process index: 1\n",
      "Local process index: 1\n",
      "Device: cuda:1\n",
      "\n",
      "Mixed precision type: fp16\n",
      "\n",
      "/home/paperspace/.local/lib/python3.10/site-packages/accelerate/accelerator.py:399: UserWarning: `log_with=tensorboard` was passed but no supported trackers are currently installed.\n",
      "  warnings.warn(f\"`log_with={log_with}` was passed but no supported trackers are currently installed.\")\n",
      "06/27/2024 06:28:43 - INFO - __main__ - Distributed environment: MULTI_GPU  Backend: nccl\n",
      "Num processes: 4\n",
      "Process index: 2\n",
      "Local process index: 2\n",
      "Device: cuda:2\n",
      "\n",
      "Mixed precision type: fp16\n",
      "\n",
      "/home/paperspace/.local/lib/python3.10/site-packages/huggingface_hub/file_download.py:1132: FutureWarning: `resume_download` is deprecated and will be removed in version 1.0.0. Downloads always resume when possible. If you want to force a new download, use `force_download=True`.\n",
      "  warnings.warn(\n",
      "You are using a model of type clip_text_model to instantiate a model of type . This is not supported for all configurations of models and can yield errors.\n",
      "You are using a model of type clip_text_model to instantiate a model of type . This is not supported for all configurations of models and can yield errors.\n",
      "/home/paperspace/.local/lib/python3.10/site-packages/huggingface_hub/file_download.py:1132: FutureWarning: `resume_download` is deprecated and will be removed in version 1.0.0. Downloads always resume when possible. If you want to force a new download, use `force_download=True`.\n",
      "  warnings.warn(\n",
      "/home/paperspace/.local/lib/python3.10/site-packages/huggingface_hub/file_download.py:1132: FutureWarning: `resume_download` is deprecated and will be removed in version 1.0.0. Downloads always resume when possible. If you want to force a new download, use `force_download=True`.\n",
      "  warnings.warn(\n",
      "{'rescale_betas_zero_snr', 'dynamic_thresholding_ratio', 'variance_type', 'clip_sample_range', 'thresholding'} was not found in config. Values will be initialized to default values.\n",
      "/home/paperspace/.local/lib/python3.10/site-packages/huggingface_hub/file_download.py:1132: FutureWarning: `resume_download` is deprecated and will be removed in version 1.0.0. Downloads always resume when possible. If you want to force a new download, use `force_download=True`.\n",
      "  warnings.warn(\n",
      "{'latents_std', 'use_post_quant_conv', 'shift_factor', 'latents_mean', 'use_quant_conv'} was not found in config. Values will be initialized to default values.\n",
      "{'attention_type', 'dropout', 'reverse_transformer_layers_per_block'} was not found in config. Values will be initialized to default values.\n",
      "06/27/2024 06:28:55 - INFO - datasets - PyTorch version 2.3.1 available.\n",
      "06/27/2024 06:28:56 - INFO - datasets - PyTorch version 2.3.1 available.\n",
      "06/27/2024 06:28:56 - INFO - datasets - PyTorch version 2.3.1 available.\n",
      "Resolving data files: 100%|█████████████████| 75/75 [00:00<00:00, 350694.31it/s]\n",
      "06/27/2024 06:28:56 - INFO - datasets - PyTorch version 2.3.1 available.\n",
      "Resolving data files: 100%|█████████████████| 75/75 [00:00<00:00, 137728.90it/s]\n",
      "Resolving data files: 100%|█████████████████| 75/75 [00:00<00:00, 315203.21it/s]\n",
      "Resolving data files: 100%|██████████████████| 75/75 [00:00<00:00, 93317.35it/s]\n",
      "06/27/2024 06:29:07 - INFO - __main__ - ***** Running training *****\n",
      "06/27/2024 06:29:07 - INFO - __main__ -   Num examples = 74\n",
      "06/27/2024 06:29:07 - INFO - __main__ -   Num batches each epoch = 19\n",
      "06/27/2024 06:29:07 - INFO - __main__ -   Num Epochs = 72\n",
      "06/27/2024 06:29:07 - INFO - __main__ -   Instantaneous batch size per device = 1\n",
      "06/27/2024 06:29:07 - INFO - __main__ -   Total train batch size (w. parallel, distributed & accumulation) = 12\n",
      "06/27/2024 06:29:07 - INFO - __main__ -   Gradient Accumulation steps = 3\n",
      "06/27/2024 06:29:07 - INFO - __main__ -   Total optimization steps = 500\n",
      "Steps:   0%|                     | 0/500 [00:03<?, ?it/s, loss=0.012, lr=0.0001][rank3]:[W reducer.cpp:1389] Warning: find_unused_parameters=True was specified in DDP constructor, but did not find any unused parameters in the forward pass. This flag results in an extra traversal of the autograd graph every iteration,  which can adversely affect performance. If your model indeed never has any unused parameters in the forward pass, consider turning this flag off. Note that this warning may be a false positive if your model has flow control causing later iterations to have unused parameters. (function operator())\n",
      "[rank1]:[W reducer.cpp:1389] Warning: find_unused_parameters=True was specified in DDP constructor, but did not find any unused parameters in the forward pass. This flag results in an extra traversal of the autograd graph every iteration,  which can adversely affect performance. If your model indeed never has any unused parameters in the forward pass, consider turning this flag off. Note that this warning may be a false positive if your model has flow control causing later iterations to have unused parameters. (function operator())\n",
      "[rank0]:[W reducer.cpp:1389] Warning: find_unused_parameters=True was specified in DDP constructor, but did not find any unused parameters in the forward pass. This flag results in an extra traversal of the autograd graph every iteration,  which can adversely affect performance. If your model indeed never has any unused parameters in the forward pass, consider turning this flag off. Note that this warning may be a false positive if your model has flow control causing later iterations to have unused parameters. (function operator())\n",
      "[rank2]:[W reducer.cpp:1389] Warning: find_unused_parameters=True was specified in DDP constructor, but did not find any unused parameters in the forward pass. This flag results in an extra traversal of the autograd graph every iteration,  which can adversely affect performance. If your model indeed never has any unused parameters in the forward pass, consider turning this flag off. Note that this warning may be a false positive if your model has flow control causing later iterations to have unused parameters. (function operator())\n",
      "Steps: 100%|█████████| 500/500 [30:08<00:00,  3.71s/it, loss=0.00263, lr=0.0001]Model weights saved in output3/pytorch_lora_weights.safetensors\n",
      "{'latents_std', 'use_post_quant_conv', 'shift_factor', 'latents_mean', 'use_quant_conv'} was not found in config. Values will be initialized to default values.\n",
      "{'feature_extractor', 'image_encoder'} was not found in config. Values will be initialized to default values.\n",
      "\n",
      "Loading pipeline components...:   0%|                     | 0/7 [00:00<?, ?it/s]\u001B[ALoaded text_encoder_2 as CLIPTextModelWithProjection from `text_encoder_2` subfolder of stabilityai/stable-diffusion-xl-base-1.0.\n",
      "\n",
      "Loading pipeline components...:  14%|█▊           | 1/7 [00:02<00:13,  2.33s/it]\u001B[ALoaded tokenizer_2 as CLIPTokenizer from `tokenizer_2` subfolder of stabilityai/stable-diffusion-xl-base-1.0.\n",
      "Loaded tokenizer as CLIPTokenizer from `tokenizer` subfolder of stabilityai/stable-diffusion-xl-base-1.0.\n",
      "{'attention_type', 'dropout', 'reverse_transformer_layers_per_block'} was not found in config. Values will be initialized to default values.\n",
      "Loaded unet as UNet2DConditionModel from `unet` subfolder of stabilityai/stable-diffusion-xl-base-1.0.\n",
      "\n",
      "Loading pipeline components...:  57%|███████▍     | 4/7 [00:09<00:07,  2.48s/it]\u001B[A{'final_sigmas_type', 'sigma_max', 'sigma_min', 'rescale_betas_zero_snr', 'timestep_type'} was not found in config. Values will be initialized to default values.\n",
      "Loaded scheduler as EulerDiscreteScheduler from `scheduler` subfolder of stabilityai/stable-diffusion-xl-base-1.0.\n",
      "Loaded text_encoder as CLIPTextModel from `text_encoder` subfolder of stabilityai/stable-diffusion-xl-base-1.0.\n",
      "\n",
      "Loading pipeline components...: 100%|█████████████| 7/7 [00:10<00:00,  1.49s/it]\u001B[A\n",
      "Loading unet.\n",
      "Steps: 100%|█████████| 500/500 [30:20<00:00,  3.64s/it, loss=0.00263, lr=0.0001]\n"
     ]
    }
   ],
   "source": [
    "#!/usr/bin/env bash\n",
    "!accelerate launch train_dreambooth_lora_sdxl.py \\\n",
    "  --pretrained_model_name_or_path=\"stabilityai/stable-diffusion-xl-base-1.0\" \\\n",
    "  --pretrained_vae_model_name_or_path=\"madebyollin/sdxl-vae-fp16-fix\" \\\n",
    "  --dataset_name=\"screw1\" \\\n",
    "  --output_dir=\"output3\" \\\n",
    "  --caption_column=\"prompt\"\\\n",
    "  --mixed_precision=\"fp16\" \\\n",
    "  --instance_prompt=\"a photo of TOK screw icon\" \\\n",
    "  --resolution=1024 \\\n",
    "  --train_batch_size=1 \\\n",
    "  --gradient_accumulation_steps=3 \\\n",
    "  --gradient_checkpointing \\\n",
    "  --learning_rate=1e-4 \\\n",
    "  --snr_gamma=5.0 \\\n",
    "  --lr_scheduler=\"constant\" \\\n",
    "  --lr_warmup_steps=0 \\\n",
    "  --mixed_precision=\"fp16\" \\\n",
    "  --use_8bit_adam \\\n",
    "  --max_train_steps=500 \\\n",
    "  --checkpointing_steps=717 \\\n",
    "  --seed=\"0\""
   ]
  },
  {
   "cell_type": "markdown",
   "metadata": {},
   "source": [
    "### Approach 2: Using Class Images and Prior Preservation Loss:\n",
    "\n",
    "Advantage: Including class images and using prior preservation loss helps the model maintain general characteristics of the class while fine-tuning for specific instances. This can prevent overfitting and ensure the model retains a broad understanding of the general appearance of screws.\n",
    "\n",
    "Disadvantage: This approach requires additional class images and careful balancing between instance-specific and class-generic images.\n",
    "\n",
    "Default set the prior_loss_weight to 1. The prior_loss_weight parameter controls the weight of the prior preservation loss during training, which helps to preserve the generalization capabilities of the model by penalizing deviations from the class-specific distribution. We can experiment with this value to find the optimal setting."
   ]
  },
  {
   "cell_type": "code",
   "execution_count": 24,
   "metadata": {},
   "outputs": [
    {
     "name": "stdout",
     "output_type": "stream",
     "text": [
      "/home/paperspace/.local/lib/python3.10/site-packages/diffusers/models/transformers/transformer_2d.py:34: FutureWarning: `Transformer2DModelOutput` is deprecated and will be removed in version 1.0.0. Importing `Transformer2DModelOutput` from `diffusers.models.transformer_2d` is deprecated and this will be removed in a future version. Please use `from diffusers.models.modeling_outputs import Transformer2DModelOutput`, instead.\n",
      "  deprecate(\"Transformer2DModelOutput\", \"1.0.0\", deprecation_message)\n",
      "/home/paperspace/.local/lib/python3.10/site-packages/diffusers/models/transformers/transformer_2d.py:34: FutureWarning: `Transformer2DModelOutput` is deprecated and will be removed in version 1.0.0. Importing `Transformer2DModelOutput` from `diffusers.models.transformer_2d` is deprecated and this will be removed in a future version. Please use `from diffusers.models.modeling_outputs import Transformer2DModelOutput`, instead.\n",
      "  deprecate(\"Transformer2DModelOutput\", \"1.0.0\", deprecation_message)\n",
      "/home/paperspace/.local/lib/python3.10/site-packages/diffusers/models/transformers/transformer_2d.py:34: FutureWarning: `Transformer2DModelOutput` is deprecated and will be removed in version 1.0.0. Importing `Transformer2DModelOutput` from `diffusers.models.transformer_2d` is deprecated and this will be removed in a future version. Please use `from diffusers.models.modeling_outputs import Transformer2DModelOutput`, instead.\n",
      "  deprecate(\"Transformer2DModelOutput\", \"1.0.0\", deprecation_message)\n",
      "/home/paperspace/.local/lib/python3.10/site-packages/diffusers/models/transformers/transformer_2d.py:34: FutureWarning: `Transformer2DModelOutput` is deprecated and will be removed in version 1.0.0. Importing `Transformer2DModelOutput` from `diffusers.models.transformer_2d` is deprecated and this will be removed in a future version. Please use `from diffusers.models.modeling_outputs import Transformer2DModelOutput`, instead.\n",
      "  deprecate(\"Transformer2DModelOutput\", \"1.0.0\", deprecation_message)\n",
      "/home/paperspace/.local/lib/python3.10/site-packages/accelerate/accelerator.py:399: UserWarning: `log_with=tensorboard` was passed but no supported trackers are currently installed.\n",
      "  warnings.warn(f\"`log_with={log_with}` was passed but no supported trackers are currently installed.\")\n",
      "06/29/2024 17:02:13 - INFO - __main__ - Distributed environment: MULTI_GPU  Backend: nccl\n",
      "Num processes: 4\n",
      "Process index: 0\n",
      "Local process index: 0\n",
      "Device: cuda:0\n",
      "\n",
      "Mixed precision type: fp16\n",
      "\n",
      "/home/paperspace/.local/lib/python3.10/site-packages/accelerate/accelerator.py:399: UserWarning: `log_with=tensorboard` was passed but no supported trackers are currently installed.\n",
      "  warnings.warn(f\"`log_with={log_with}` was passed but no supported trackers are currently installed.\")\n",
      "06/29/2024 17:02:13 - INFO - __main__ - Distributed environment: MULTI_GPU  Backend: nccl\n",
      "Num processes: 4\n",
      "Process index: 2\n",
      "Local process index: 2\n",
      "Device: cuda:2\n",
      "\n",
      "Mixed precision type: fp16\n",
      "\n",
      "/home/paperspace/.local/lib/python3.10/site-packages/accelerate/accelerator.py:399: UserWarning: `log_with=tensorboard` was passed but no supported trackers are currently installed.\n",
      "  warnings.warn(f\"`log_with={log_with}` was passed but no supported trackers are currently installed.\")\n",
      "06/29/2024 17:02:13 - INFO - __main__ - Distributed environment: MULTI_GPU  Backend: nccl\n",
      "Num processes: 4\n",
      "Process index: 1\n",
      "Local process index: 1\n",
      "Device: cuda:1\n",
      "\n",
      "Mixed precision type: fp16\n",
      "\n",
      "/home/paperspace/.local/lib/python3.10/site-packages/huggingface_hub/file_download.py:1132: FutureWarning: `resume_download` is deprecated and will be removed in version 1.0.0. Downloads always resume when possible. If you want to force a new download, use `force_download=True`.\n",
      "  warnings.warn(\n",
      "/home/paperspace/.local/lib/python3.10/site-packages/accelerate/accelerator.py:399: UserWarning: `log_with=tensorboard` was passed but no supported trackers are currently installed.\n",
      "  warnings.warn(f\"`log_with={log_with}` was passed but no supported trackers are currently installed.\")\n",
      "06/29/2024 17:02:14 - INFO - __main__ - Distributed environment: MULTI_GPU  Backend: nccl\n",
      "Num processes: 4\n",
      "Process index: 3\n",
      "Local process index: 3\n",
      "Device: cuda:3\n",
      "\n",
      "Mixed precision type: fp16\n",
      "\n",
      "You are using a model of type clip_text_model to instantiate a model of type . This is not supported for all configurations of models and can yield errors.\n",
      "You are using a model of type clip_text_model to instantiate a model of type . This is not supported for all configurations of models and can yield errors.\n",
      "{'clip_sample_range', 'thresholding', 'dynamic_thresholding_ratio', 'variance_type', 'rescale_betas_zero_snr'} was not found in config. Values will be initialized to default values.\n",
      "/home/paperspace/.local/lib/python3.10/site-packages/huggingface_hub/file_download.py:1132: FutureWarning: `resume_download` is deprecated and will be removed in version 1.0.0. Downloads always resume when possible. If you want to force a new download, use `force_download=True`.\n",
      "  warnings.warn(\n",
      "/home/paperspace/.local/lib/python3.10/site-packages/huggingface_hub/file_download.py:1132: FutureWarning: `resume_download` is deprecated and will be removed in version 1.0.0. Downloads always resume when possible. If you want to force a new download, use `force_download=True`.\n",
      "  warnings.warn(\n",
      "/home/paperspace/.local/lib/python3.10/site-packages/huggingface_hub/file_download.py:1132: FutureWarning: `resume_download` is deprecated and will be removed in version 1.0.0. Downloads always resume when possible. If you want to force a new download, use `force_download=True`.\n",
      "  warnings.warn(\n",
      "{'latents_mean', 'use_post_quant_conv', 'latents_std', 'shift_factor', 'use_quant_conv'} was not found in config. Values will be initialized to default values.\n",
      "{'reverse_transformer_layers_per_block', 'dropout', 'attention_type'} was not found in config. Values will be initialized to default values.\n",
      "06/29/2024 17:02:26 - INFO - datasets - PyTorch version 2.3.1 available.\n",
      "Resolving data files: 100%|█████████████████| 43/43 [00:00<00:00, 296636.63it/s]\n",
      "Downloading data: 100%|███████████████████| 43/43 [00:00<00:00, 96446.56files/s]\n",
      "Generating train split: 42 examples [00:00, 3004.52 examples/s]\n",
      "06/29/2024 17:02:27 - INFO - datasets - PyTorch version 2.3.1 available.\n",
      "06/29/2024 17:02:27 - INFO - datasets - PyTorch version 2.3.1 available.\n",
      "06/29/2024 17:02:27 - INFO - datasets - PyTorch version 2.3.1 available.\n",
      "Resolving data files: 100%|█████████████████| 43/43 [00:00<00:00, 254738.80it/s]\n",
      "Resolving data files: 100%|█████████████████| 43/43 [00:00<00:00, 242412.73it/s]\n",
      "Resolving data files: 100%|█████████████████| 43/43 [00:00<00:00, 239197.71it/s]\n",
      "06/29/2024 17:02:35 - INFO - __main__ - ***** Running training *****\n",
      "06/29/2024 17:02:35 - INFO - __main__ -   Num examples = 42\n",
      "06/29/2024 17:02:35 - INFO - __main__ -   Num batches each epoch = 11\n",
      "06/29/2024 17:02:35 - INFO - __main__ -   Num Epochs = 200\n",
      "06/29/2024 17:02:35 - INFO - __main__ -   Instantaneous batch size per device = 1\n",
      "06/29/2024 17:02:35 - INFO - __main__ -   Total train batch size (w. parallel, distributed & accumulation) = 12\n",
      "06/29/2024 17:02:35 - INFO - __main__ -   Gradient Accumulation steps = 3\n",
      "06/29/2024 17:02:35 - INFO - __main__ -   Total optimization steps = 800\n",
      "Steps:   0%|                     | 0/800 [00:06<?, ?it/s, loss=0.013, lr=0.0001][rank3]:[W reducer.cpp:1389] Warning: find_unused_parameters=True was specified in DDP constructor, but did not find any unused parameters in the forward pass. This flag results in an extra traversal of the autograd graph every iteration,  which can adversely affect performance. If your model indeed never has any unused parameters in the forward pass, consider turning this flag off. Note that this warning may be a false positive if your model has flow control causing later iterations to have unused parameters. (function operator())\n",
      "[rank1]:[W reducer.cpp:1389] Warning: find_unused_parameters=True was specified in DDP constructor, but did not find any unused parameters in the forward pass. This flag results in an extra traversal of the autograd graph every iteration,  which can adversely affect performance. If your model indeed never has any unused parameters in the forward pass, consider turning this flag off. Note that this warning may be a false positive if your model has flow control causing later iterations to have unused parameters. (function operator())\n",
      "[rank0]:[W reducer.cpp:1389] Warning: find_unused_parameters=True was specified in DDP constructor, but did not find any unused parameters in the forward pass. This flag results in an extra traversal of the autograd graph every iteration,  which can adversely affect performance. If your model indeed never has any unused parameters in the forward pass, consider turning this flag off. Note that this warning may be a false positive if your model has flow control causing later iterations to have unused parameters. (function operator())\n",
      "[rank2]:[W reducer.cpp:1389] Warning: find_unused_parameters=True was specified in DDP constructor, but did not find any unused parameters in the forward pass. This flag results in an extra traversal of the autograd graph every iteration,  which can adversely affect performance. If your model indeed never has any unused parameters in the forward pass, consider turning this flag off. Note that this warning may be a false positive if your model has flow control causing later iterations to have unused parameters. (function operator())\n",
      "Steps:  90%|███████▏| 717/800 [1:30:09<10:26,  7.55s/it, loss=0.0029, lr=0.0001]06/29/2024 18:32:44 - INFO - accelerate.accelerator - Saving current state to home depot_screw_class/output/checkpoint-717\n",
      "Model weights saved in home depot_screw_class/output/checkpoint-717/pytorch_lora_weights.safetensors\n",
      "06/29/2024 18:32:45 - INFO - accelerate.checkpointing - Optimizer state saved in home depot_screw_class/output/checkpoint-717/optimizer.bin\n",
      "06/29/2024 18:32:45 - INFO - accelerate.checkpointing - Scheduler state saved in home depot_screw_class/output/checkpoint-717/scheduler.bin\n",
      "06/29/2024 18:32:45 - INFO - accelerate.checkpointing - Sampler state for dataloader 0 saved in home depot_screw_class/output/checkpoint-717/sampler.bin\n",
      "06/29/2024 18:32:45 - INFO - accelerate.checkpointing - Gradient scaler state saved in home depot_screw_class/output/checkpoint-717/scaler.pt\n",
      "06/29/2024 18:32:45 - INFO - accelerate.checkpointing - Random states saved in home depot_screw_class/output/checkpoint-717/random_states_0.pkl\n",
      "06/29/2024 18:32:45 - INFO - __main__ - Saved state to home depot_screw_class/output/checkpoint-717\n",
      "Steps: 100%|███████| 800/800 [1:40:38<00:00,  7.19s/it, loss=0.00857, lr=0.0001]Model weights saved in home depot_screw_class/output/pytorch_lora_weights.safetensors\n",
      "{'latents_mean', 'use_post_quant_conv', 'latents_std', 'shift_factor', 'use_quant_conv'} was not found in config. Values will be initialized to default values.\n",
      "{'image_encoder', 'feature_extractor'} was not found in config. Values will be initialized to default values.\n",
      "\n",
      "Loading pipeline components...:   0%|                     | 0/7 [00:00<?, ?it/s]\u001B[ALoaded text_encoder_2 as CLIPTextModelWithProjection from `text_encoder_2` subfolder of stabilityai/stable-diffusion-xl-base-1.0.\n",
      "\n",
      "Loading pipeline components...:  14%|█▊           | 1/7 [00:02<00:13,  2.18s/it]\u001B[ALoaded tokenizer as CLIPTokenizer from `tokenizer` subfolder of stabilityai/stable-diffusion-xl-base-1.0.\n",
      "Loaded tokenizer_2 as CLIPTokenizer from `tokenizer_2` subfolder of stabilityai/stable-diffusion-xl-base-1.0.\n",
      "Loaded text_encoder as CLIPTextModel from `text_encoder` subfolder of stabilityai/stable-diffusion-xl-base-1.0.\n",
      "\n",
      "Loading pipeline components...:  71%|█████████▎   | 5/7 [00:02<00:00,  2.22it/s]\u001B[A{'sigma_min', 'final_sigmas_type', 'timestep_type', 'sigma_max', 'rescale_betas_zero_snr'} was not found in config. Values will be initialized to default values.\n",
      "Loaded scheduler as EulerDiscreteScheduler from `scheduler` subfolder of stabilityai/stable-diffusion-xl-base-1.0.\n",
      "{'reverse_transformer_layers_per_block', 'dropout', 'attention_type'} was not found in config. Values will be initialized to default values.\n",
      "Loaded unet as UNet2DConditionModel from `unet` subfolder of stabilityai/stable-diffusion-xl-base-1.0.\n",
      "\n",
      "Loading pipeline components...: 100%|█████████████| 7/7 [00:10<00:00,  1.47s/it]\u001B[A\n",
      "Loading unet.\n",
      "Steps: 100%|███████| 800/800 [1:40:50<00:00,  7.56s/it, loss=0.00857, lr=0.0001]\n"
     ]
    }
   ],
   "source": [
    "!accelerate launch train_dreambooth_lora_sdxl.py \\\n",
    "  --pretrained_model_name_or_path=\"stabilityai/stable-diffusion-xl-base-1.0\" \\\n",
    "  --pretrained_vae_model_name_or_path=\"madebyollin/sdxl-vae-fp16-fix\" \\\n",
    "  --dataset_name=\"home depot_screw_class/screws\" \\\n",
    "  --instance_prompt=\"a screw icon\" \\\n",
    "  --class_data_dir=\"home depot_screw_class/class_images\" \\\n",
    "  --class_prompt=\"a screw icon\" \\\n",
    "  --output_dir=\"home depot_screw_class/output\" \\\n",
    "  --caption_column=\"prompt\" \\\n",
    "  --mixed_precision=\"fp16\" \\\n",
    "  --resolution=1024 \\\n",
    "  --train_batch_size=1 \\\n",
    "  --gradient_accumulation_steps=3 \\\n",
    "  --gradient_checkpointing \\\n",
    "  --learning_rate=1e-4 \\\n",
    "  --snr_gamma=5.0 \\\n",
    "  --lr_scheduler=\"constant\" \\\n",
    "  --lr_warmup_steps=0 \\\n",
    "  --use_8bit_adam \\\n",
    "  --max_train_steps=800 \\\n",
    "  --checkpointing_steps=717 \\\n",
    "  --seed=\"0\" \\\n",
    "  --with_prior_preservation \\\n",
    "  --num_class_images=20 \\\n",
    "  --prior_generation_precision=\"fp16\" \\\n",
    "  --prior_loss_weight=1\n"
   ]
  },
  {
   "cell_type": "markdown",
   "metadata": {},
   "source": [
    "## Inference"
   ]
  },
  {
   "cell_type": "markdown",
   "metadata": {},
   "source": [
    "Inference need to install following packages. After installing, you may need to restart the kernel."
   ]
  },
  {
   "cell_type": "code",
   "execution_count": 27,
   "metadata": {},
   "outputs": [],
   "source": [
    "!pip install torch torchvision -q"
   ]
  },
  {
   "cell_type": "code",
   "execution_count": 28,
   "metadata": {},
   "outputs": [
    {
     "name": "stdout",
     "output_type": "stream",
     "text": [
      "Defaulting to user installation because normal site-packages is not writeable\n",
      "Requirement already satisfied: torch in ./.local/lib/python3.10/site-packages (2.3.1)\n",
      "Requirement already satisfied: nvidia-cusolver-cu12==11.4.5.107 in ./.local/lib/python3.10/site-packages (from torch) (11.4.5.107)\n",
      "Requirement already satisfied: nvidia-cusparse-cu12==12.1.0.106 in ./.local/lib/python3.10/site-packages (from torch) (12.1.0.106)\n",
      "Requirement already satisfied: filelock in ./.local/lib/python3.10/site-packages (from torch) (3.15.4)\n",
      "Requirement already satisfied: nvidia-cuda-runtime-cu12==12.1.105 in ./.local/lib/python3.10/site-packages (from torch) (12.1.105)\n",
      "Requirement already satisfied: sympy in ./.local/lib/python3.10/site-packages (from torch) (1.12.1)\n",
      "Requirement already satisfied: nvidia-cufft-cu12==11.0.2.54 in ./.local/lib/python3.10/site-packages (from torch) (11.0.2.54)\n",
      "Requirement already satisfied: triton==2.3.1 in ./.local/lib/python3.10/site-packages (from torch) (2.3.1)\n",
      "Requirement already satisfied: fsspec in ./.local/lib/python3.10/site-packages (from torch) (2024.5.0)\n",
      "Requirement already satisfied: typing-extensions>=4.8.0 in ./.local/lib/python3.10/site-packages (from torch) (4.12.2)\n",
      "Requirement already satisfied: nvidia-cuda-cupti-cu12==12.1.105 in ./.local/lib/python3.10/site-packages (from torch) (12.1.105)\n",
      "Requirement already satisfied: nvidia-cuda-nvrtc-cu12==12.1.105 in ./.local/lib/python3.10/site-packages (from torch) (12.1.105)\n",
      "Requirement already satisfied: nvidia-nvtx-cu12==12.1.105 in ./.local/lib/python3.10/site-packages (from torch) (12.1.105)\n",
      "Requirement already satisfied: networkx in ./.local/lib/python3.10/site-packages (from torch) (3.3)\n",
      "Requirement already satisfied: nvidia-cublas-cu12==12.1.3.1 in ./.local/lib/python3.10/site-packages (from torch) (12.1.3.1)\n",
      "Requirement already satisfied: nvidia-curand-cu12==10.3.2.106 in ./.local/lib/python3.10/site-packages (from torch) (10.3.2.106)\n",
      "Requirement already satisfied: nvidia-nccl-cu12==2.20.5 in ./.local/lib/python3.10/site-packages (from torch) (2.20.5)\n",
      "Requirement already satisfied: jinja2 in /usr/lib/python3/dist-packages (from torch) (3.0.3)\n",
      "Requirement already satisfied: nvidia-cudnn-cu12==8.9.2.26 in ./.local/lib/python3.10/site-packages (from torch) (8.9.2.26)\n",
      "Requirement already satisfied: nvidia-nvjitlink-cu12 in ./.local/lib/python3.10/site-packages (from nvidia-cusolver-cu12==11.4.5.107->torch) (12.5.40)\n",
      "Requirement already satisfied: mpmath<1.4.0,>=1.1.0 in ./.local/lib/python3.10/site-packages (from sympy->torch) (1.3.0)\n",
      "Note: you may need to restart the kernel to use updated packages.\n"
     ]
    }
   ],
   "source": [
    "pip install torch --upgrade"
   ]
  },
  {
   "cell_type": "markdown",
   "metadata": {
    "id": "Dvu9e6q_x3mK"
   },
   "source": [
    "#### Let's generate some images with it!"
   ]
  },
  {
   "cell_type": "markdown",
   "metadata": {
    "id": "Ka7ydmvw-LhA"
   },
   "source": [
    "Use the trained model to do infernce as following:"
   ]
  },
  {
   "cell_type": "code",
   "execution_count": 1,
   "metadata": {},
   "outputs": [],
   "source": [
    "from PIL import Image\n",
    "\n",
    "def image_grid(imgs, rows, cols, resize=256):\n",
    "\n",
    "    if resize is not None:\n",
    "        imgs = [img.resize((resize, resize)) for img in imgs]\n",
    "    w, h = imgs[0].size\n",
    "    grid = Image.new(\"RGB\", size=(cols * w, rows * h))\n",
    "    grid_w, grid_h = grid.size\n",
    "\n",
    "    for i, img in enumerate(imgs):\n",
    "        grid.paste(img, box=(i % cols * w, i // cols * h))\n",
    "    return grid"
   ]
  },
  {
   "cell_type": "code",
   "execution_count": 2,
   "metadata": {
    "colab": {
     "base_uri": "https://localhost:8080/",
     "height": 1000,
     "referenced_widgets": [
      "d524ac0207924487bb785a05368ecef3",
      "d1b7afb0de03413f840b47b662224594",
      "2b8d25a766f64288be394b346c1aa44f",
      "b0999950664c42a0af07e41391f50ec6",
      "550fd128bb6e4292890ca002cb521ae4",
      "fe4e39eef3434da38a22989e563e4995",
      "0f417d80cfec4e1d926c1f346e8b2f6b",
      "60c4b13c958c4e259c0d416d3217ef93",
      "4fbefb1f2a054bab9be826e51eaebdc9",
      "ae82c0f19eb747e7be91a8c7145f90d6",
      "22ac16f9e6fd49e9aab7ea2870449bf0",
      "b07721429efe4ce586205f24625c86e9",
      "c3643c5544cc436885c688ec6e8e4aed",
      "e09834c47c1b479abd58ac7d15615da8",
      "15db70b7d97f429bad98a56a3ed01b55",
      "e0c693a8df2c43948445be9bc5e10b6c",
      "a539944011654a3fac397081f48ff37d",
      "dabefbcfc9884227a0b2f765d3c46d62",
      "fc2e3481ae5840f4898d73d5cd5c3c37",
      "6dc486e8f514431c8933728cc37feee3",
      "0786675d0ed841338dd78a473621a90f",
      "3722e0259aff4effb01713c059a968c7"
     ]
    },
    "id": "ZRqBeSyW0m6G",
    "outputId": "b8cfbe95-07e2-436e-8da0-415cd3a002a9"
   },
   "outputs": [
    {
     "name": "stderr",
     "output_type": "stream",
     "text": [
      "/home/paperspace/.local/lib/python3.10/site-packages/diffusers/models/transformers/transformer_2d.py:34: FutureWarning: `Transformer2DModelOutput` is deprecated and will be removed in version 1.0.0. Importing `Transformer2DModelOutput` from `diffusers.models.transformer_2d` is deprecated and this will be removed in a future version. Please use `from diffusers.models.modeling_outputs import Transformer2DModelOutput`, instead.\n",
      "  deprecate(\"Transformer2DModelOutput\", \"1.0.0\", deprecation_message)\n"
     ]
    },
    {
     "data": {
      "application/vnd.jupyter.widget-view+json": {
       "model_id": "b5f4238fc8ed41e68cb3d9d7475f02a3",
       "version_major": 2,
       "version_minor": 0
      },
      "text/plain": [
       "Loading pipeline components...:   0%|          | 0/7 [00:00<?, ?it/s]"
      ]
     },
     "metadata": {},
     "output_type": "display_data"
    }
   ],
   "source": [
    "import torch\n",
    "from diffusers import DiffusionPipeline, AutoencoderKL\n",
    "\n",
    "# Load the VAE model\n",
    "vae = AutoencoderKL.from_pretrained(\"madebyollin/sdxl-vae-fp16-fix\", torch_dtype=torch.float16)\n",
    "\n",
    "# Load the pipeline\n",
    "pipe = DiffusionPipeline.from_pretrained(\n",
    "    \"stabilityai/stable-diffusion-xl-base-1.0\",\n",
    "    vae=vae,\n",
    "    torch_dtype=torch.float16,\n",
    "    variant=\"fp16\",\n",
    "    use_safetensors=True\n",
    ")\n",
    "\n",
    "# upload the pipeline to content, and load LoRA weights from the it\n",
    "pipe.load_lora_weights(\"home depot_screw_class/output/pytorch_lora_weights.safetensors\")\n",
    "\n"
   ]
  },
  {
   "cell_type": "code",
   "execution_count": 34,
   "metadata": {},
   "outputs": [
    {
     "data": {
      "application/vnd.jupyter.widget-view+json": {
       "model_id": "1f9b604fa40e4dfc9fbb9fcdea147d76",
       "version_major": 2,
       "version_minor": 0
      },
      "text/plain": [
       "  0%|          | 0/125 [00:00<?, ?it/s]"
      ]
     },
     "metadata": {},
     "output_type": "display_data"
    },
    {
     "data": {
      "image/jpeg": "[encoded data removed]",
      "image/png": "[encoded data removed]",
      "text/plain": [
       "<PIL.Image.Image image mode=RGB size=1024x256>"
      ]
     },
     "execution_count": 34,
     "metadata": {},
     "output_type": "execute_result"
    }
   ],
   "source": [
    "# Move the pipeline to GPU\n",
    "_ = pipe.to(\"cuda\")\n",
    "\n",
    "# Generate an image using the loaded model\n",
    "prompt = \"phillips drive oval head screw icon\"\n",
    "# num_images_per_prompt=4\n",
    "images = pipe(prompt, num_inference_steps= 125,num_images_per_prompt=4).images\n",
    "image_grid(images, 1,4)"
   ]
  },
  {
   "cell_type": "code",
   "execution_count": 35,
   "metadata": {},
   "outputs": [],
   "source": [
    "# Save the inference prompt\n",
    "with open('home depot_screw_class/prompt_for_inference/phillips_oval.txt','w') as f:\n",
    "    f.write(prompt)\n",
    "    \n",
    "# save the generated images\n",
    "for i, image in enumerate(images):\n",
    "    image.save(f\"home depot_screw_class/inference_images/phillips_oval_{i}.png\")"
   ]
  },
  {
   "cell_type": "code",
   "execution_count": 36,
   "metadata": {},
   "outputs": [],
   "source": [
    "torch.cuda.empty_cache()"
   ]
  },
  {
   "cell_type": "code",
   "execution_count": null,
   "metadata": {},
   "outputs": [],
   "source": [
    "# Use a for loop to get all the infusion images\n",
    "prompts=[\"round head screw icon\",\n",
    "         \"square head screw icon\",\n",
    "         \"hex head screw icon\",\n",
    "         \"flat head screw icon\",\n",
    "         \"phillips drive screw icon\",\n",
    "         \"spanner drive screw icon\",\n",
    "         \"slotted drive screw icon\",\n",
    "         \"cross drive round head screw icon\",\n",
    "        \"spanner drive pan head screw icon\",\n",
    "        \"phillips drive oval head screw icon\"]\n",
    "for prompt in prompts:\n",
    "    _ = pipe.to(\"cuda\")\n",
    "    images = pipe(prompt, num_inference_steps= 125,num_images_per_prompt=4).images\n",
    "    with open(f\"{prompt}.txt\",\"w\") as f:\n",
    "        f.write(prompt)\n",
    "    for i, image in enumerate(images):\n",
    "        image.save(f\"{prompt}_{i}.png\")\n",
    "    torch.cuda.empty_cache()"
   ]
  },
  {
   "cell_type": "markdown",
   "metadata": {},
   "source": [
    "Make zip file in order to download"
   ]
  },
  {
   "cell_type": "code",
   "execution_count": 52,
   "metadata": {},
   "outputs": [
    {
     "name": "stdout",
     "output_type": "stream",
     "text": [
      "Root: home depot_screw_class/inference_images\n",
      "Directories: []\n",
      "Files: ['phillips_oval_2.png', 'spanner_drive_2.png', 'round_head_3.png', 'ross_round_0.png', 'slotted_drive_2.png', 'flat_head_2.png', 'square_head_2.png', 'spanner_pan_2.png', 'hex_head_0.png', 'phillips_drive_3.png', 'hex_head_2.png', 'round_head_2.png', 'square_head_3.png', 'spanner_pan_0.png', 'phillips_oval_0.png', 'flat_head_1.png', 'round_head_0.png', 'slotted_drive_1.png', 'ross_round_3.png', 'flat_head_3.png', 'phillips_oval_1.png', 'phillips_oval_3.png', 'round_head_1.png', 'slotted_drive_3.png', 'square_head_0.png', 'ross_round_1.png', 'spanner_drive_3.png', 'phillips_drive_0.png', 'hex_head_3.png', 'spanner_drive_1.png', 'square_head_1.png', 'phillips_drive_2.png', 'hex_head_1.png', 'spanner_pan_3.png', 'phillips_drive_1.png', 'spanner_drive_0.png', 'spanner_pan_1.png', 'slotted_drive_0.png', 'ross_round_2.png', 'flat_head_0.png']\n"
     ]
    }
   ],
   "source": [
    "import os\n",
    "\n",
    "directory_to_zip = 'home depot_screw_class/inference_images'\n",
    "\n",
    "if os.path.exists(directory_to_zip):\n",
    "    for root, dirs, files in os.walk(directory_to_zip):\n",
    "        print(f\"Root: {root}\")\n",
    "        print(f\"Directories: {dirs}\")\n",
    "        print(f\"Files: {files}\")\n",
    "else:\n",
    "    print(f\"Directory {directory_to_zip} does not exist.\")\n"
   ]
  },
  {
   "cell_type": "code",
   "execution_count": 53,
   "metadata": {},
   "outputs": [
    {
     "data": {
      "text/plain": [
       "'/home/paperspace/inference_images.zip'"
      ]
     },
     "execution_count": 53,
     "metadata": {},
     "output_type": "execute_result"
    }
   ],
   "source": [
    "import shutil\n",
    "\n",
    "\n",
    "directory_to_zip = 'home depot_screw_class/inference_images'\n",
    "\n",
    "output_zip_path = 'inference_images'\n",
    "\n",
    "# Create the zip file\n",
    "shutil.make_archive(output_zip_path, 'zip', directory_to_zip)\n"
   ]
  },
  {
   "cell_type": "code",
   "execution_count": null,
   "metadata": {},
   "outputs": [],
   "source": []
  }
 ],
 "metadata": {
  "accelerator": "GPU",
  "colab": {
   "gpuType": "T4",
   "provenance": []
  },
  "kaggle": {
   "accelerator": "nvidiaTeslaT4",
   "dataSources": [
    {
     "datasetId": 5127003,
     "sourceId": 8574146,
     "sourceType": "datasetVersion"
    },
    {
     "datasetId": 5131493,
     "sourceId": 8580511,
     "sourceType": "datasetVersion"
    },
    {
     "datasetId": 5131853,
     "sourceId": 8581004,
     "sourceType": "datasetVersion"
    },
    {
     "datasetId": 5131860,
     "sourceId": 8581011,
     "sourceType": "datasetVersion"
    }
   ],
   "dockerImageVersionId": 30699,
   "isGpuEnabled": true,
   "isInternetEnabled": true,
   "language": "python",
   "sourceType": "notebook"
  },
  "kernelspec": {
   "display_name": "Python 3 (ipykernel)",
   "language": "python",
   "name": "python3"
  },
  "language_info": {
   "codemirror_mode": {
    "name": "ipython",
    "version": 3
   },
   "file_extension": ".py",
   "mimetype": "text/x-python",
   "name": "python",
   "nbconvert_exporter": "python",
   "pygments_lexer": "ipython3",
   "version": "3.10.12"
  },
  "widgets": {
   "application/vnd.jupyter.widget-state+json": {
    "0786675d0ed841338dd78a473621a90f": {
     "model_module": "@jupyter-widgets/base",
     "model_module_version": "1.2.0",
     "model_name": "LayoutModel",
     "state": {
      "_model_module": "@jupyter-widgets/base",
      "_model_module_version": "1.2.0",
      "_model_name": "LayoutModel",
      "_view_count": null,
      "_view_module": "@jupyter-widgets/base",
      "_view_module_version": "1.2.0",
      "_view_name": "LayoutView",
      "align_content": null,
      "align_items": null,
      "align_self": null,
      "border": null,
      "bottom": null,
      "display": null,
      "flex": null,
      "flex_flow": null,
      "grid_area": null,
      "grid_auto_columns": null,
      "grid_auto_flow": null,
      "grid_auto_rows": null,
      "grid_column": null,
      "grid_gap": null,
      "grid_row": null,
      "grid_template_areas": null,
      "grid_template_columns": null,
      "grid_template_rows": null,
      "height": null,
      "justify_content": null,
      "justify_items": null,
      "left": null,
      "margin": null,
      "max_height": null,
      "max_width": null,
      "min_height": null,
      "min_width": null,
      "object_fit": null,
      "object_position": null,
      "order": null,
      "overflow": null,
      "overflow_x": null,
      "overflow_y": null,
      "padding": null,
      "right": null,
      "top": null,
      "visibility": null,
      "width": null
     }
    },
    "0f417d80cfec4e1d926c1f346e8b2f6b": {
     "model_module": "@jupyter-widgets/controls",
     "model_module_version": "1.5.0",
     "model_name": "DescriptionStyleModel",
     "state": {
      "_model_module": "@jupyter-widgets/controls",
      "_model_module_version": "1.5.0",
      "_model_name": "DescriptionStyleModel",
      "_view_count": null,
      "_view_module": "@jupyter-widgets/base",
      "_view_module_version": "1.2.0",
      "_view_name": "StyleView",
      "description_width": ""
     }
    },
    "15db70b7d97f429bad98a56a3ed01b55": {
     "model_module": "@jupyter-widgets/controls",
     "model_module_version": "1.5.0",
     "model_name": "HTMLModel",
     "state": {
      "_dom_classes": [],
      "_model_module": "@jupyter-widgets/controls",
      "_model_module_version": "1.5.0",
      "_model_name": "HTMLModel",
      "_view_count": null,
      "_view_module": "@jupyter-widgets/controls",
      "_view_module_version": "1.5.0",
      "_view_name": "HTMLView",
      "description": "",
      "description_tooltip": null,
      "layout": "IPY_MODEL_0786675d0ed841338dd78a473621a90f",
      "placeholder": "​",
      "style": "IPY_MODEL_3722e0259aff4effb01713c059a968c7",
      "value": " 50/50 [00:44&lt;00:00,  1.11it/s]"
     }
    },
    "22ac16f9e6fd49e9aab7ea2870449bf0": {
     "model_module": "@jupyter-widgets/controls",
     "model_module_version": "1.5.0",
     "model_name": "DescriptionStyleModel",
     "state": {
      "_model_module": "@jupyter-widgets/controls",
      "_model_module_version": "1.5.0",
      "_model_name": "DescriptionStyleModel",
      "_view_count": null,
      "_view_module": "@jupyter-widgets/base",
      "_view_module_version": "1.2.0",
      "_view_name": "StyleView",
      "description_width": ""
     }
    },
    "2b8d25a766f64288be394b346c1aa44f": {
     "model_module": "@jupyter-widgets/controls",
     "model_module_version": "1.5.0",
     "model_name": "FloatProgressModel",
     "state": {
      "_dom_classes": [],
      "_model_module": "@jupyter-widgets/controls",
      "_model_module_version": "1.5.0",
      "_model_name": "FloatProgressModel",
      "_view_count": null,
      "_view_module": "@jupyter-widgets/controls",
      "_view_module_version": "1.5.0",
      "_view_name": "ProgressView",
      "bar_style": "success",
      "description": "",
      "description_tooltip": null,
      "layout": "IPY_MODEL_60c4b13c958c4e259c0d416d3217ef93",
      "max": 7,
      "min": 0,
      "orientation": "horizontal",
      "style": "IPY_MODEL_4fbefb1f2a054bab9be826e51eaebdc9",
      "value": 7
     }
    },
    "3722e0259aff4effb01713c059a968c7": {
     "model_module": "@jupyter-widgets/controls",
     "model_module_version": "1.5.0",
     "model_name": "DescriptionStyleModel",
     "state": {
      "_model_module": "@jupyter-widgets/controls",
      "_model_module_version": "1.5.0",
      "_model_name": "DescriptionStyleModel",
      "_view_count": null,
      "_view_module": "@jupyter-widgets/base",
      "_view_module_version": "1.2.0",
      "_view_name": "StyleView",
      "description_width": ""
     }
    },
    "4fbefb1f2a054bab9be826e51eaebdc9": {
     "model_module": "@jupyter-widgets/controls",
     "model_module_version": "1.5.0",
     "model_name": "ProgressStyleModel",
     "state": {
      "_model_module": "@jupyter-widgets/controls",
      "_model_module_version": "1.5.0",
      "_model_name": "ProgressStyleModel",
      "_view_count": null,
      "_view_module": "@jupyter-widgets/base",
      "_view_module_version": "1.2.0",
      "_view_name": "StyleView",
      "bar_color": null,
      "description_width": ""
     }
    },
    "550fd128bb6e4292890ca002cb521ae4": {
     "model_module": "@jupyter-widgets/base",
     "model_module_version": "1.2.0",
     "model_name": "LayoutModel",
     "state": {
      "_model_module": "@jupyter-widgets/base",
      "_model_module_version": "1.2.0",
      "_model_name": "LayoutModel",
      "_view_count": null,
      "_view_module": "@jupyter-widgets/base",
      "_view_module_version": "1.2.0",
      "_view_name": "LayoutView",
      "align_content": null,
      "align_items": null,
      "align_self": null,
      "border": null,
      "bottom": null,
      "display": null,
      "flex": null,
      "flex_flow": null,
      "grid_area": null,
      "grid_auto_columns": null,
      "grid_auto_flow": null,
      "grid_auto_rows": null,
      "grid_column": null,
      "grid_gap": null,
      "grid_row": null,
      "grid_template_areas": null,
      "grid_template_columns": null,
      "grid_template_rows": null,
      "height": null,
      "justify_content": null,
      "justify_items": null,
      "left": null,
      "margin": null,
      "max_height": null,
      "max_width": null,
      "min_height": null,
      "min_width": null,
      "object_fit": null,
      "object_position": null,
      "order": null,
      "overflow": null,
      "overflow_x": null,
      "overflow_y": null,
      "padding": null,
      "right": null,
      "top": null,
      "visibility": null,
      "width": null
     }
    },
    "60c4b13c958c4e259c0d416d3217ef93": {
     "model_module": "@jupyter-widgets/base",
     "model_module_version": "1.2.0",
     "model_name": "LayoutModel",
     "state": {
      "_model_module": "@jupyter-widgets/base",
      "_model_module_version": "1.2.0",
      "_model_name": "LayoutModel",
      "_view_count": null,
      "_view_module": "@jupyter-widgets/base",
      "_view_module_version": "1.2.0",
      "_view_name": "LayoutView",
      "align_content": null,
      "align_items": null,
      "align_self": null,
      "border": null,
      "bottom": null,
      "display": null,
      "flex": null,
      "flex_flow": null,
      "grid_area": null,
      "grid_auto_columns": null,
      "grid_auto_flow": null,
      "grid_auto_rows": null,
      "grid_column": null,
      "grid_gap": null,
      "grid_row": null,
      "grid_template_areas": null,
      "grid_template_columns": null,
      "grid_template_rows": null,
      "height": null,
      "justify_content": null,
      "justify_items": null,
      "left": null,
      "margin": null,
      "max_height": null,
      "max_width": null,
      "min_height": null,
      "min_width": null,
      "object_fit": null,
      "object_position": null,
      "order": null,
      "overflow": null,
      "overflow_x": null,
      "overflow_y": null,
      "padding": null,
      "right": null,
      "top": null,
      "visibility": null,
      "width": null
     }
    },
    "6dc486e8f514431c8933728cc37feee3": {
     "model_module": "@jupyter-widgets/controls",
     "model_module_version": "1.5.0",
     "model_name": "ProgressStyleModel",
     "state": {
      "_model_module": "@jupyter-widgets/controls",
      "_model_module_version": "1.5.0",
      "_model_name": "ProgressStyleModel",
      "_view_count": null,
      "_view_module": "@jupyter-widgets/base",
      "_view_module_version": "1.2.0",
      "_view_name": "StyleView",
      "bar_color": null,
      "description_width": ""
     }
    },
    "a539944011654a3fac397081f48ff37d": {
     "model_module": "@jupyter-widgets/base",
     "model_module_version": "1.2.0",
     "model_name": "LayoutModel",
     "state": {
      "_model_module": "@jupyter-widgets/base",
      "_model_module_version": "1.2.0",
      "_model_name": "LayoutModel",
      "_view_count": null,
      "_view_module": "@jupyter-widgets/base",
      "_view_module_version": "1.2.0",
      "_view_name": "LayoutView",
      "align_content": null,
      "align_items": null,
      "align_self": null,
      "border": null,
      "bottom": null,
      "display": null,
      "flex": null,
      "flex_flow": null,
      "grid_area": null,
      "grid_auto_columns": null,
      "grid_auto_flow": null,
      "grid_auto_rows": null,
      "grid_column": null,
      "grid_gap": null,
      "grid_row": null,
      "grid_template_areas": null,
      "grid_template_columns": null,
      "grid_template_rows": null,
      "height": null,
      "justify_content": null,
      "justify_items": null,
      "left": null,
      "margin": null,
      "max_height": null,
      "max_width": null,
      "min_height": null,
      "min_width": null,
      "object_fit": null,
      "object_position": null,
      "order": null,
      "overflow": null,
      "overflow_x": null,
      "overflow_y": null,
      "padding": null,
      "right": null,
      "top": null,
      "visibility": null,
      "width": null
     }
    },
    "ae82c0f19eb747e7be91a8c7145f90d6": {
     "model_module": "@jupyter-widgets/base",
     "model_module_version": "1.2.0",
     "model_name": "LayoutModel",
     "state": {
      "_model_module": "@jupyter-widgets/base",
      "_model_module_version": "1.2.0",
      "_model_name": "LayoutModel",
      "_view_count": null,
      "_view_module": "@jupyter-widgets/base",
      "_view_module_version": "1.2.0",
      "_view_name": "LayoutView",
      "align_content": null,
      "align_items": null,
      "align_self": null,
      "border": null,
      "bottom": null,
      "display": null,
      "flex": null,
      "flex_flow": null,
      "grid_area": null,
      "grid_auto_columns": null,
      "grid_auto_flow": null,
      "grid_auto_rows": null,
      "grid_column": null,
      "grid_gap": null,
      "grid_row": null,
      "grid_template_areas": null,
      "grid_template_columns": null,
      "grid_template_rows": null,
      "height": null,
      "justify_content": null,
      "justify_items": null,
      "left": null,
      "margin": null,
      "max_height": null,
      "max_width": null,
      "min_height": null,
      "min_width": null,
      "object_fit": null,
      "object_position": null,
      "order": null,
      "overflow": null,
      "overflow_x": null,
      "overflow_y": null,
      "padding": null,
      "right": null,
      "top": null,
      "visibility": null,
      "width": null
     }
    },
    "b07721429efe4ce586205f24625c86e9": {
     "model_module": "@jupyter-widgets/controls",
     "model_module_version": "1.5.0",
     "model_name": "HBoxModel",
     "state": {
      "_dom_classes": [],
      "_model_module": "@jupyter-widgets/controls",
      "_model_module_version": "1.5.0",
      "_model_name": "HBoxModel",
      "_view_count": null,
      "_view_module": "@jupyter-widgets/controls",
      "_view_module_version": "1.5.0",
      "_view_name": "HBoxView",
      "box_style": "",
      "children": [
       "IPY_MODEL_c3643c5544cc436885c688ec6e8e4aed",
       "IPY_MODEL_e09834c47c1b479abd58ac7d15615da8",
       "IPY_MODEL_15db70b7d97f429bad98a56a3ed01b55"
      ],
      "layout": "IPY_MODEL_e0c693a8df2c43948445be9bc5e10b6c"
     }
    },
    "b0999950664c42a0af07e41391f50ec6": {
     "model_module": "@jupyter-widgets/controls",
     "model_module_version": "1.5.0",
     "model_name": "HTMLModel",
     "state": {
      "_dom_classes": [],
      "_model_module": "@jupyter-widgets/controls",
      "_model_module_version": "1.5.0",
      "_model_name": "HTMLModel",
      "_view_count": null,
      "_view_module": "@jupyter-widgets/controls",
      "_view_module_version": "1.5.0",
      "_view_name": "HTMLView",
      "description": "",
      "description_tooltip": null,
      "layout": "IPY_MODEL_ae82c0f19eb747e7be91a8c7145f90d6",
      "placeholder": "​",
      "style": "IPY_MODEL_22ac16f9e6fd49e9aab7ea2870449bf0",
      "value": " 7/7 [00:01&lt;00:00,  7.27it/s]"
     }
    },
    "c3643c5544cc436885c688ec6e8e4aed": {
     "model_module": "@jupyter-widgets/controls",
     "model_module_version": "1.5.0",
     "model_name": "HTMLModel",
     "state": {
      "_dom_classes": [],
      "_model_module": "@jupyter-widgets/controls",
      "_model_module_version": "1.5.0",
      "_model_name": "HTMLModel",
      "_view_count": null,
      "_view_module": "@jupyter-widgets/controls",
      "_view_module_version": "1.5.0",
      "_view_name": "HTMLView",
      "description": "",
      "description_tooltip": null,
      "layout": "IPY_MODEL_a539944011654a3fac397081f48ff37d",
      "placeholder": "​",
      "style": "IPY_MODEL_dabefbcfc9884227a0b2f765d3c46d62",
      "value": "100%"
     }
    },
    "d1b7afb0de03413f840b47b662224594": {
     "model_module": "@jupyter-widgets/controls",
     "model_module_version": "1.5.0",
     "model_name": "HTMLModel",
     "state": {
      "_dom_classes": [],
      "_model_module": "@jupyter-widgets/controls",
      "_model_module_version": "1.5.0",
      "_model_name": "HTMLModel",
      "_view_count": null,
      "_view_module": "@jupyter-widgets/controls",
      "_view_module_version": "1.5.0",
      "_view_name": "HTMLView",
      "description": "",
      "description_tooltip": null,
      "layout": "IPY_MODEL_fe4e39eef3434da38a22989e563e4995",
      "placeholder": "​",
      "style": "IPY_MODEL_0f417d80cfec4e1d926c1f346e8b2f6b",
      "value": "Loading pipeline components...: 100%"
     }
    },
    "d524ac0207924487bb785a05368ecef3": {
     "model_module": "@jupyter-widgets/controls",
     "model_module_version": "1.5.0",
     "model_name": "HBoxModel",
     "state": {
      "_dom_classes": [],
      "_model_module": "@jupyter-widgets/controls",
      "_model_module_version": "1.5.0",
      "_model_name": "HBoxModel",
      "_view_count": null,
      "_view_module": "@jupyter-widgets/controls",
      "_view_module_version": "1.5.0",
      "_view_name": "HBoxView",
      "box_style": "",
      "children": [
       "IPY_MODEL_d1b7afb0de03413f840b47b662224594",
       "IPY_MODEL_2b8d25a766f64288be394b346c1aa44f",
       "IPY_MODEL_b0999950664c42a0af07e41391f50ec6"
      ],
      "layout": "IPY_MODEL_550fd128bb6e4292890ca002cb521ae4"
     }
    },
    "dabefbcfc9884227a0b2f765d3c46d62": {
     "model_module": "@jupyter-widgets/controls",
     "model_module_version": "1.5.0",
     "model_name": "DescriptionStyleModel",
     "state": {
      "_model_module": "@jupyter-widgets/controls",
      "_model_module_version": "1.5.0",
      "_model_name": "DescriptionStyleModel",
      "_view_count": null,
      "_view_module": "@jupyter-widgets/base",
      "_view_module_version": "1.2.0",
      "_view_name": "StyleView",
      "description_width": ""
     }
    },
    "e09834c47c1b479abd58ac7d15615da8": {
     "model_module": "@jupyter-widgets/controls",
     "model_module_version": "1.5.0",
     "model_name": "FloatProgressModel",
     "state": {
      "_dom_classes": [],
      "_model_module": "@jupyter-widgets/controls",
      "_model_module_version": "1.5.0",
      "_model_name": "FloatProgressModel",
      "_view_count": null,
      "_view_module": "@jupyter-widgets/controls",
      "_view_module_version": "1.5.0",
      "_view_name": "ProgressView",
      "bar_style": "success",
      "description": "",
      "description_tooltip": null,
      "layout": "IPY_MODEL_fc2e3481ae5840f4898d73d5cd5c3c37",
      "max": 50,
      "min": 0,
      "orientation": "horizontal",
      "style": "IPY_MODEL_6dc486e8f514431c8933728cc37feee3",
      "value": 50
     }
    },
    "e0c693a8df2c43948445be9bc5e10b6c": {
     "model_module": "@jupyter-widgets/base",
     "model_module_version": "1.2.0",
     "model_name": "LayoutModel",
     "state": {
      "_model_module": "@jupyter-widgets/base",
      "_model_module_version": "1.2.0",
      "_model_name": "LayoutModel",
      "_view_count": null,
      "_view_module": "@jupyter-widgets/base",
      "_view_module_version": "1.2.0",
      "_view_name": "LayoutView",
      "align_content": null,
      "align_items": null,
      "align_self": null,
      "border": null,
      "bottom": null,
      "display": null,
      "flex": null,
      "flex_flow": null,
      "grid_area": null,
      "grid_auto_columns": null,
      "grid_auto_flow": null,
      "grid_auto_rows": null,
      "grid_column": null,
      "grid_gap": null,
      "grid_row": null,
      "grid_template_areas": null,
      "grid_template_columns": null,
      "grid_template_rows": null,
      "height": null,
      "justify_content": null,
      "justify_items": null,
      "left": null,
      "margin": null,
      "max_height": null,
      "max_width": null,
      "min_height": null,
      "min_width": null,
      "object_fit": null,
      "object_position": null,
      "order": null,
      "overflow": null,
      "overflow_x": null,
      "overflow_y": null,
      "padding": null,
      "right": null,
      "top": null,
      "visibility": null,
      "width": null
     }
    },
    "fc2e3481ae5840f4898d73d5cd5c3c37": {
     "model_module": "@jupyter-widgets/base",
     "model_module_version": "1.2.0",
     "model_name": "LayoutModel",
     "state": {
      "_model_module": "@jupyter-widgets/base",
      "_model_module_version": "1.2.0",
      "_model_name": "LayoutModel",
      "_view_count": null,
      "_view_module": "@jupyter-widgets/base",
      "_view_module_version": "1.2.0",
      "_view_name": "LayoutView",
      "align_content": null,
      "align_items": null,
      "align_self": null,
      "border": null,
      "bottom": null,
      "display": null,
      "flex": null,
      "flex_flow": null,
      "grid_area": null,
      "grid_auto_columns": null,
      "grid_auto_flow": null,
      "grid_auto_rows": null,
      "grid_column": null,
      "grid_gap": null,
      "grid_row": null,
      "grid_template_areas": null,
      "grid_template_columns": null,
      "grid_template_rows": null,
      "height": null,
      "justify_content": null,
      "justify_items": null,
      "left": null,
      "margin": null,
      "max_height": null,
      "max_width": null,
      "min_height": null,
      "min_width": null,
      "object_fit": null,
      "object_position": null,
      "order": null,
      "overflow": null,
      "overflow_x": null,
      "overflow_y": null,
      "padding": null,
      "right": null,
      "top": null,
      "visibility": null,
      "width": null
     }
    },
    "fe4e39eef3434da38a22989e563e4995": {
     "model_module": "@jupyter-widgets/base",
     "model_module_version": "1.2.0",
     "model_name": "LayoutModel",
     "state": {
      "_model_module": "@jupyter-widgets/base",
      "_model_module_version": "1.2.0",
      "_model_name": "LayoutModel",
      "_view_count": null,
      "_view_module": "@jupyter-widgets/base",
      "_view_module_version": "1.2.0",
      "_view_name": "LayoutView",
      "align_content": null,
      "align_items": null,
      "align_self": null,
      "border": null,
      "bottom": null,
      "display": null,
      "flex": null,
      "flex_flow": null,
      "grid_area": null,
      "grid_auto_columns": null,
      "grid_auto_flow": null,
      "grid_auto_rows": null,
      "grid_column": null,
      "grid_gap": null,
      "grid_row": null,
      "grid_template_areas": null,
      "grid_template_columns": null,
      "grid_template_rows": null,
      "height": null,
      "justify_content": null,
      "justify_items": null,
      "left": null,
      "margin": null,
      "max_height": null,
      "max_width": null,
      "min_height": null,
      "min_width": null,
      "object_fit": null,
      "object_position": null,
      "order": null,
      "overflow": null,
      "overflow_x": null,
      "overflow_y": null,
      "padding": null,
      "right": null,
      "top": null,
      "visibility": null,
      "width": null
     }
    }
   }
  }
 },
 "nbformat": 4,
 "nbformat_minor": 4
}
